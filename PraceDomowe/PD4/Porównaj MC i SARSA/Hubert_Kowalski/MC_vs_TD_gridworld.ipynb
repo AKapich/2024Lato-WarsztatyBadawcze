{
 "cells": [
  {
   "cell_type": "code",
   "execution_count": 1,
   "id": "70a8b223",
   "metadata": {},
   "outputs": [],
   "source": [
    "import numpy as np\n",
    "from matplotlib import pyplot as plt\n",
    "from enum import Enum"
   ]
  },
  {
   "cell_type": "markdown",
   "id": "c569c48a",
   "metadata": {},
   "source": [
    "Założenia algorytmu MC:\n",
    "- gra podzielona jest na skończone epizody\n",
    "\n",
    "- niezależnie od podejmowanych akcji epizod zawsze się kończy\n",
    "\n",
    "- estymacje wartości stanów i zmiany polityki następują dopiero na koniec epizodu (wniosek: jeśli warunek 2 nie jest spełniony to algorytm może nie zadziałać)\n",
    "\n",
    "- estymacja wartości stanu s = średnia z 'returns' obserwowanych po odwiedzeniu stanu s\n",
    "\n",
    "\n"
   ]
  },
  {
   "cell_type": "code",
   "execution_count": 2,
   "id": "f506cdbf",
   "metadata": {},
   "outputs": [],
   "source": [
    "class Action(Enum):\n",
    "    N = (-1, 0)\n",
    "    S = (1, 0)\n",
    "    E = (0, 1)\n",
    "    W = (0, -1)"
   ]
  },
  {
   "cell_type": "markdown",
   "id": "8c30ce4f",
   "metadata": {},
   "source": [
    "(2,3) - row 2 col 3\n",
    "\n",
    "Gridworld: 10x7 (10 cols, 7 rows)\n",
    "\n",
    "Start: (3,0)\n",
    "\n",
    "Terminal: (3,7)\n",
    "\n",
    "Jeśli wiatr próbuje wynieść agenta poza planszę - jest wynoszony maksymalnie jak się da, czyli na krawędź."
   ]
  },
  {
   "cell_type": "code",
   "execution_count": 9,
   "id": "fa3a416c",
   "metadata": {},
   "outputs": [],
   "source": [
    "wind = np.array([0,0,0,1,1,1,2,2,1,0])\n",
    "map_actions = {\"N\":0, \"S\":1, \"E\":2, \"W\":3}\n",
    "np.random.seed(420)"
   ]
  },
  {
   "cell_type": "code",
   "execution_count": 3,
   "id": "8ed2f396",
   "metadata": {},
   "outputs": [],
   "source": [
    "def take_action(s, a): # s - state, ex. (3,6), a - action, ex. N\n",
    "    av = a.value\n",
    "    new_s = (s[0] + av[0] - wind[s[1]], s[1] + av[1])\n",
    "    # Limity wyjścia poza planszę\n",
    "    if new_s[0] < 0:\n",
    "        new_s = (0, new_s[1])\n",
    "    if new_s[0] > 6:\n",
    "        new_s = (6, new_s[1])\n",
    "    if new_s[1] < 0:\n",
    "        new_s = (new_s[0], 0)\n",
    "    if new_s[1] > 9:\n",
    "        new_s = (new_s[0], 9)\n",
    "    \n",
    "    # Jeśli agent poruszający się zgodnie z aktualną polityką nie zmieni\n",
    "    # swojego położenia w jednym kroku, to nie zmieni go już nigdy (w przypadku MC exploring starts)\n",
    "    # W przypadku eps-soft może je zmienić gdy wylosuje się inny ruch niż zgodny z polityką.\n",
    "    stuck = False\n",
    "    if s[0] == new_s[0] and s[1] == new_s[1]:\n",
    "        stuck = True\n",
    "        \n",
    "    terminated = False\n",
    "    if new_s == (3,7):\n",
    "        terminated = True\n",
    "    \n",
    "    return new_s, stuck, terminated"
   ]
  },
  {
   "cell_type": "code",
   "execution_count": 4,
   "id": "eb02ec16",
   "metadata": {},
   "outputs": [],
   "source": [
    "# Random starting policy (deterministic!)\n",
    "policy = [[np.random.choice(list(Action)) for i in range(10)] for j in range(7)]\n",
    "# Q_table[akcja][wiersz][kolumna]\n",
    "# N - 0, S - 1, E - 2, W - 3\n",
    "Q_table = [[[0 for i in range(10)] for j in range(7)] for k in range(4)]\n",
    "# Return trzyma tylko liczbę elementów z których brana jest średnia\n",
    "# Q_table zawiera dotychczasową średnią. Średnia jest uaktualniana w oparciu o:\n",
    "# (size * avg + new_value) / (size+1)\n",
    "Returns = [[[0 for i in range(10)] for j in range(7)] for k in range(4)]"
   ]
  },
  {
   "cell_type": "code",
   "execution_count": 5,
   "id": "e6359b4b",
   "metadata": {},
   "outputs": [],
   "source": [
    "def find_greedy_action(Q, state):\n",
    "    best_action = None\n",
    "    max_val = float(\"-Inf\")\n",
    "    w = state[0]\n",
    "    k = state[1]\n",
    "    for a in Action:\n",
    "        val = Q[map_actions[a.name]][w][k]\n",
    "        if val>max_val:\n",
    "            max_val = val\n",
    "            best_action = a\n",
    "    return best_action"
   ]
  },
  {
   "cell_type": "markdown",
   "id": "3dedd979",
   "metadata": {},
   "source": [
    "## Monte Carlo"
   ]
  },
  {
   "cell_type": "code",
   "execution_count": 10,
   "id": "fcdb6cf1",
   "metadata": {},
   "outputs": [],
   "source": [
    "# Eps-soft on-policy first-visit Monte Carlo\n",
    "def train_policy(n_episodes, eps = 0.1, gamma = 0.9, reward = -1, start = (3,0)):\n",
    "    \n",
    "    for e in range(n_episodes):\n",
    "        # Play the episode and generate S0,A0,R1 ...\n",
    "        S = []\n",
    "        state = start\n",
    "        A = []\n",
    "        terminated = False\n",
    "        #print(\"Game starts\")\n",
    "        i = 0\n",
    "        new_eps = eps\n",
    "        while not terminated:\n",
    "            if np.random.random() < new_eps:\n",
    "                action = np.random.choice(list(Action))\n",
    "                S.append(state)\n",
    "                A.append(action)\n",
    "                #print(\"State \", i, \" : \", state)\n",
    "                #print(\"Action \", i, \" : \", action)\n",
    "                state, stuck, terminated = take_action(state, action)\n",
    "            else:\n",
    "                action = policy[state[0]][state[1]]\n",
    "                S.append(state)\n",
    "                A.append(action)\n",
    "                #print(\"State \", i, \" : \", state)\n",
    "                #print(\"Action \", i, \" : \", action)\n",
    "                state, stuck, terminated = take_action(state, action)\n",
    "            # If stuck, choose random action instead of following policy\n",
    "            if stuck:\n",
    "                new_eps = 1\n",
    "            else:\n",
    "                new_eps = eps\n",
    "            i = i + 1\n",
    "            if i > 1000:\n",
    "                terminated = True\n",
    "            \n",
    "        \n",
    "        # Update Q-table and policy\n",
    "        #print(\"Game ended, updating...\")\n",
    "        G = 0\n",
    "        for t in range(len(S) - 1, -1, -1):\n",
    "            state = S[t]\n",
    "            action = A[t]\n",
    "            G = gamma * G + reward # reward = -1 always\n",
    "            # print(\"Timestep: \", t, \" , G = \", G)\n",
    "            if state in S[0:t] and action in A[0:t]:\n",
    "                continue\n",
    "            n = Returns[map_actions[action.name]][state[0]][state[1]]\n",
    "            Q_table[map_actions[action.name]][state[0]][state[1]] = (Q_table[map_actions[action.name]][state[0]][state[1]] * n + G) / (n+1)\n",
    "            Returns[map_actions[action.name]][state[0]][state[1]] = n+1\n",
    "            A_best = find_greedy_action(Q_table, state)\n",
    "            policy[state[0]][state[1]] = A_best"
   ]
  },
  {
   "cell_type": "code",
   "execution_count": 7,
   "id": "845e4fea",
   "metadata": {},
   "outputs": [],
   "source": [
    "# Parametry\n",
    "eps = 0.1\n",
    "reward = -1\n",
    "gamma = 0.9\n",
    "start = (3,0)"
   ]
  },
  {
   "cell_type": "code",
   "execution_count": 11,
   "id": "bce6b542",
   "metadata": {},
   "outputs": [
    {
     "name": "stdout",
     "output_type": "stream",
     "text": [
      "[0 0 0 1 1 1 2 2 1 0]\n",
      "Random policy\n"
     ]
    },
    {
     "data": {
      "image/png": "[encoded data removed]",
      "text/plain": [
       "<Figure size 648x432 with 1 Axes>"
      ]
     },
     "metadata": {
      "needs_background": "light"
     },
     "output_type": "display_data"
    }
   ],
   "source": [
    "arrows = {\"E\":(1,0), \"W\":(-1,0),\"N\":(0,1),\"S\":(0,-1)}\n",
    "scale = 0.25\n",
    "fig, ax = plt.subplots(figsize=(9, 6))\n",
    "for r, row in enumerate(policy):\n",
    "    for c, cell in enumerate(row):\n",
    "        if (r,c) == (3,7):\n",
    "            continue\n",
    "        \n",
    "        plt.arrow(c, 6-r, scale*arrows[cell.name][0], scale*arrows[cell.name][1], head_width=0.1)\n",
    "        \n",
    "\n",
    "ax.set_xticks([i + 0.5 for i in range(len(policy[0]))])\n",
    "ax.set_yticks([i + 0.5 for i in range(len(policy))])\n",
    "\n",
    "ax.grid(True, which='both', color='gray', linewidth=1, linestyle='-', alpha=0.5)\n",
    "\n",
    "print(wind)\n",
    "print(\"Random policy\")"
   ]
  },
  {
   "cell_type": "code",
   "execution_count": 12,
   "id": "9e2cd3c1",
   "metadata": {},
   "outputs": [
    {
     "name": "stdout",
     "output_type": "stream",
     "text": [
      "At the beggining\n",
      "Akcja  0\n",
      "[0, 0, 0, 0, 0, 0, 0, 0, 0, 0]\n",
      "[0, 0, 0, 0, 0, 0, 0, 0, 0, 0]\n",
      "[0, 0, 0, 0, 0, 0, 0, 0, 0, 0]\n",
      "[0, 0, 0, 0, 0, 0, 0, 0, 0, 0]\n",
      "[0, 0, 0, 0, 0, 0, 0, 0, 0, 0]\n",
      "[0, 0, 0, 0, 0, 0, 0, 0, 0, 0]\n",
      "[0, 0, 0, 0, 0, 0, 0, 0, 0, 0]\n",
      "Akcja  1\n",
      "[0, 0, 0, 0, 0, 0, 0, 0, 0, 0]\n",
      "[0, 0, 0, 0, 0, 0, 0, 0, 0, 0]\n",
      "[0, 0, 0, 0, 0, 0, 0, 0, 0, 0]\n",
      "[0, 0, 0, 0, 0, 0, 0, 0, 0, 0]\n",
      "[0, 0, 0, 0, 0, 0, 0, 0, 0, 0]\n",
      "[0, 0, 0, 0, 0, 0, 0, 0, 0, 0]\n",
      "[0, 0, 0, 0, 0, 0, 0, 0, 0, 0]\n",
      "Akcja  2\n",
      "[0, 0, 0, 0, 0, 0, 0, 0, 0, 0]\n",
      "[0, 0, 0, 0, 0, 0, 0, 0, 0, 0]\n",
      "[0, 0, 0, 0, 0, 0, 0, 0, 0, 0]\n",
      "[0, 0, 0, 0, 0, 0, 0, 0, 0, 0]\n",
      "[0, 0, 0, 0, 0, 0, 0, 0, 0, 0]\n",
      "[0, 0, 0, 0, 0, 0, 0, 0, 0, 0]\n",
      "[0, 0, 0, 0, 0, 0, 0, 0, 0, 0]\n",
      "Akcja  3\n",
      "[0, 0, 0, 0, 0, 0, 0, 0, 0, 0]\n",
      "[0, 0, 0, 0, 0, 0, 0, 0, 0, 0]\n",
      "[0, 0, 0, 0, 0, 0, 0, 0, 0, 0]\n",
      "[0, 0, 0, 0, 0, 0, 0, 0, 0, 0]\n",
      "[0, 0, 0, 0, 0, 0, 0, 0, 0, 0]\n",
      "[0, 0, 0, 0, 0, 0, 0, 0, 0, 0]\n",
      "[0, 0, 0, 0, 0, 0, 0, 0, 0, 0]\n"
     ]
    }
   ],
   "source": [
    "print(\"At the beggining\")\n",
    "for action in [0,1,2,3]:\n",
    "    print(\"Akcja \", action)\n",
    "    for row in Q_table[action]:\n",
    "        print(row)"
   ]
  },
  {
   "cell_type": "code",
   "execution_count": 13,
   "id": "d13d4727",
   "metadata": {},
   "outputs": [],
   "source": [
    "train_policy(eps = eps, n_episodes = 500)"
   ]
  },
  {
   "cell_type": "code",
   "execution_count": 14,
   "id": "f65f5525",
   "metadata": {},
   "outputs": [
    {
     "name": "stdout",
     "output_type": "stream",
     "text": [
      "[0 0 0 1 1 1 2 2 1 0]\n",
      "After 500 episodes\n"
     ]
    },
    {
     "data": {
      "image/png": "[encoded data removed]",
      "text/plain": [
       "<Figure size 648x432 with 1 Axes>"
      ]
     },
     "metadata": {
      "needs_background": "light"
     },
     "output_type": "display_data"
    }
   ],
   "source": [
    "arrows = {\"E\":(1,0), \"W\":(-1,0),\"N\":(0,1),\"S\":(0,-1)}\n",
    "scale = 0.25\n",
    "fig, ax = plt.subplots(figsize=(9, 6))\n",
    "for r, row in enumerate(policy):\n",
    "    for c, cell in enumerate(row):\n",
    "        if (r,c) == (3,7):\n",
    "            continue\n",
    "        \n",
    "        plt.arrow(c, 6-r, scale*arrows[cell.name][0], scale*arrows[cell.name][1], head_width=0.1)\n",
    "        \n",
    "\n",
    "ax.set_xticks([i + 0.5 for i in range(len(policy[0]))])\n",
    "ax.set_yticks([i + 0.5 for i in range(len(policy))])\n",
    "\n",
    "ax.grid(True, which='both', color='gray', linewidth=1, linestyle='-', alpha=0.5)\n",
    "\n",
    "print(wind)\n",
    "print(\"After 500 episodes\")"
   ]
  },
  {
   "cell_type": "code",
   "execution_count": 15,
   "id": "390cc8dc",
   "metadata": {},
   "outputs": [
    {
     "name": "stdout",
     "output_type": "stream",
     "text": [
      "After 500 episodes\n",
      "Akcja N:\n",
      "-9.972    -9.945    -9.839    -9.851    -9.751    -8.726    -7.689    -7.510    -9.701    -9.173    \n",
      "-9.949    -9.918    -9.964    -10.000   -9.110    -10.000   0.000     -8.063    -8.838    -9.506    \n",
      "-9.664    -9.702    -9.784    -9.501    -10.000   -10.000   0.000     -10.000   -6.832    -6.643    \n",
      "-9.251    -10.000   -10.000   -10.000   -9.996    0.000     0.000     0.000     -8.650    -6.626    \n",
      "-9.593    -10.000   -10.000   -10.000   -10.000   0.000     0.000     -10.000   -7.393    -4.136    \n",
      "-10.000   -10.000   -10.000   -10.000   -10.000   0.000     0.000     -10.000   -10.000   -9.806    \n",
      "-10.000   -10.000   -10.000   -10.000   0.000     0.000     0.000     0.000     -1.900    -10.000   \n",
      "\n",
      "Akcja S:\n",
      "-9.714    -10.000   -9.984    -9.333    -8.811    -8.485    -9.549    -9.499    -8.133    -5.356    \n",
      "-9.541    -10.000   -9.378    -9.859    -8.522    0.000     0.000     -9.939    -10.000   -4.779    \n",
      "-9.646    -9.602    -9.927    -9.074    -10.000   0.000     0.000     -7.033    -8.588    -4.380    \n",
      "-9.696    -10.000   -10.000   -10.000   -10.000   0.000     0.000     0.000     -10.000   -3.387    \n",
      "-10.000   -10.000   -10.000   -10.000   -10.000   0.000     0.000     -1.000    -4.154    -5.371    \n",
      "-10.000   -10.000   -10.000   -10.000   0.000     0.000     0.000     -10.000   -10.000   -7.048    \n",
      "-10.000   -10.000   -10.000   -10.000   0.000     0.000     0.000     0.000     -6.719    -8.257    \n",
      "\n",
      "Akcja E:\n",
      "-10.000   -9.945    -9.420    -9.873    -9.711    -7.694    -6.922    -6.378    -5.958    -7.114    \n",
      "-9.959    -9.504    -10.000   -10.000   -7.561    -10.000   0.000     -6.339    -8.754    -7.207    \n",
      "-9.137    -9.002    -8.717    -7.990    -10.000   0.000     0.000     -10.000   -10.000   -6.250    \n",
      "-9.792    -9.865    -10.000   -10.000   -10.000   0.000     0.000     0.000     -10.000   -6.349    \n",
      "-9.954    -10.000   -9.999    -9.996    -10.000   0.000     0.000     -10.000   -4.365    -6.452    \n",
      "-10.000   -10.000   -9.999    -10.000   0.000     0.000     0.000     -6.126    -9.529    -5.681    \n",
      "-10.000   -10.000   -10.000   -10.000   0.000     0.000     0.000     0.000     -10.000   -6.384    \n",
      "\n",
      "Akcja W:\n",
      "-9.962    -9.817    -9.741    -9.638    -9.524    -8.678    -7.937    -7.670    -8.087    -6.982    \n",
      "-9.943    -10.000   -9.702    -10.000   -9.435    0.000     0.000     -10.000   -10.000   -7.163    \n",
      "-9.584    -9.667    -9.354    -9.863    -10.000   -10.000   -10.000   -10.000   -10.000   -6.686    \n",
      "-9.768    -9.705    -9.829    -9.948    -10.000   -10.000   0.000     0.000     -7.584    -7.481    \n",
      "-10.000   -9.932    -10.000   -10.000   -10.000   0.000     0.000     -10.000   -1.000    -2.142    \n",
      "-9.997    -10.000   -10.000   -9.999    -10.000   0.000     0.000     0.000     -3.146    -4.168    \n",
      "-10.000   -10.000   -10.000   0.000     0.000     0.000     0.000     0.000     -8.257    -7.393    \n",
      "\n"
     ]
    }
   ],
   "source": [
    "print(\"After 500 episodes\")\n",
    "\n",
    "def print_3d_array(Q_table):\n",
    "    for i, grid in enumerate(Q_table):\n",
    "        print(f\"Akcja {list(map_actions.keys())[i]}:\")\n",
    "        for row in grid:\n",
    "            for val in row:\n",
    "                print(f\"{val:.3f}\", end=\" \"*(10-len(f\"{val:.3f}\")))\n",
    "            print()  # Nowy wiersz\n",
    "        print()  # Nowa linia między siatkami\n",
    "\n",
    "print_3d_array(Q_table)"
   ]
  },
  {
   "cell_type": "markdown",
   "id": "4a3a37d4",
   "metadata": {},
   "source": [
    "## Wnioski:\n",
    "- MC nie nadaje się do rozwiązania tego problemu, ponieważ szansa na to, że wykonując losowe ruchy dojdziemy do mety jest znikoma\n",
    "<br/><br/>\n",
    "\n",
    "- Zatem epizody są bardzo długie, często wcale się nie kończą, a Q-value prawie każdej odwiedzonej pary stan-akcja wynosi -10 bo po odwiedzeniu danego stanu agent błądził po planszy bez celu\n",
    "<br/><br/>\n",
    "\n",
    "- Barto i Sutton strona 130: \"Note that Monte Carlo methods cannot easily be used here because termination is not guaranteed for all policies. If a policy was ever found that caused the agent to stay in the same state, then the next episode would never end.\"\n",
    "<br/><br/>\n",
    "\n",
    "- Ostatecznie po 500 epizodach algorytm zbiega do poprawnego rozwiązania, choć po 100 epizodach podejmował jeszcze prawie losowe akcje, nie prowadzące do wygranej"
   ]
  },
  {
   "cell_type": "markdown",
   "id": "66f4e3cf",
   "metadata": {},
   "source": [
    "## Temporal Difference"
   ]
  },
  {
   "cell_type": "markdown",
   "id": "fcf2503e",
   "metadata": {},
   "source": [
    "Założenia o TD:\n",
    "- algorytm TD nie musi czekać do końca epizodu aby ukatualnić swoją estymację wartości stanu V(s)\n",
    "<br></br>\n",
    "- reguła update'u: V(St) = V(St) + [R + gamma*V(St+1) - V(St)] * alpha, gdzie R + gamma*V(St+1) to nowa estymacja wartości obecnego stanu, alpha - parametr uczenia\n",
    "<br></br>\n",
    "\n",
    "- błąd estymacji w czasie t znamy dopiero w czasie t+1\n",
    "<br></br>\n",
    "\n",
    "- update polityki następuje od razu w momencie update'u wartości stanu (inaczej mówiąc akcja zawsze jest w stronę wyższego stanu, więc może się ona zmieniać w czasie epizodu) -> nie do końca jestem pewien czy to dobry tok myślenia, bo tego w książce nie było\n",
    "\n"
   ]
  },
  {
   "cell_type": "code",
   "execution_count": 41,
   "id": "c75ab9ba",
   "metadata": {},
   "outputs": [],
   "source": [
    "def find_greedy_action_td(V, state):\n",
    "    max_value = float(\"-Inf\")\n",
    "    best_action = None\n",
    "    for a in Action:\n",
    "        new_state,_,_ = take_action(state, a)\n",
    "        value = V[new_state[0]][new_state[1]] # value of the new state, taking action a   \n",
    "        if value > max_value:\n",
    "            max_value = value\n",
    "            best_action = a\n",
    "    return best_action"
   ]
  },
  {
   "cell_type": "code",
   "execution_count": 114,
   "id": "8e701487",
   "metadata": {},
   "outputs": [],
   "source": [
    "# Eps-soft on-policy Temporal Difference lambda = 0 (one-step)\n",
    "def train_policy_td(n_episodes, eps = 0.05, gamma = 0.9, reward = -1, start = (3,0), alpha = 0.5):\n",
    "    episodes_count = 0 # For plot reproduction\n",
    "    t = [0 for i in range(2000)]\n",
    "    total_ts_count = 0\n",
    "    for e in range(n_episodes):\n",
    "        # Make estimates for current V_table, following policy V-greedy\n",
    "        state = start\n",
    "        terminated = False\n",
    "        #print(\"Game starts\")\n",
    "        i = 0\n",
    "        while not terminated:\n",
    "            if np.random.random() < eps:\n",
    "                action = np.random.choice(list(Action))\n",
    "                #print(\"State \", i, \" : \", state)\n",
    "                #print(\"Action \", i, \" : \", action)\n",
    "                new_state, stuck, terminated = take_action(state, action)\n",
    "                # Reward is always -1\n",
    "                V_table_td[state[0]][state[1]] = V_table_td[state[0]][state[1]] + alpha * (-1 + gamma * V_table_td[new_state[0]][new_state[1]] - V_table_td[state[0]][state[1]])  \n",
    "                state = new_state\n",
    "            else:\n",
    "                # Take action V-greedy - ?? (maybe it should still follow policy blindly)\n",
    "                action = find_greedy_action_td(V_table_td, state)\n",
    "                #print(\"State \", i, \" : \", state)\n",
    "                #print(\"Action \", i, \" : \", action)\n",
    "                new_state, stuck, terminated = take_action(state, action)\n",
    "                V_table_td[state[0]][state[1]] = V_table_td[state[0]][state[1]] + alpha * (-1 + gamma * V_table_td[new_state[0]][new_state[1]] - V_table_td[state[0]][state[1]])\n",
    "                state = new_state\n",
    "\n",
    "                \n",
    "            # If taking too long, end this suffering\n",
    "            i = i + 1\n",
    "            if total_ts_count < 2000:\n",
    "                t[total_ts_count] = episodes_count\n",
    "            total_ts_count = total_ts_count + 1\n",
    "            if i > 1000:\n",
    "                terminated = True\n",
    "                \n",
    "        episodes_count = episodes_count + 1\n",
    "        \n",
    "        # Update policy to match V-greedy policy\n",
    "        #print(\"Game ended, updating policy\")\n",
    "        for i in range(7):\n",
    "            for j in range(10):\n",
    "                state = (i,j)\n",
    "                if(state == (3,7)):\n",
    "                    continue\n",
    "                policy_td[i][j] = find_greedy_action_td(V_table_td, state)\n",
    "    return t"
   ]
  },
  {
   "cell_type": "code",
   "execution_count": 62,
   "id": "9ed8c2b6",
   "metadata": {},
   "outputs": [],
   "source": [
    "# Parametry\n",
    "eps = 0.1\n",
    "reward = -1\n",
    "gamma = 0.9\n",
    "start = (3,0)\n",
    "alpha = 0.5"
   ]
  },
  {
   "cell_type": "code",
   "execution_count": 93,
   "id": "805bf001",
   "metadata": {},
   "outputs": [],
   "source": [
    "# Random starting policy (deterministic!)\n",
    "policy_td = [[np.random.choice(list(Action)) for i in range(10)] for j in range(7)]\n",
    "# V_table[wiersz][kolumna]\n",
    "V_table_td = [[0.0 for j in range(10)] for k in range(7)]"
   ]
  },
  {
   "cell_type": "code",
   "execution_count": 94,
   "id": "c7fa6154",
   "metadata": {},
   "outputs": [
    {
     "name": "stdout",
     "output_type": "stream",
     "text": [
      "wind:  [0 0 0 1 1 1 2 2 1 0]\n",
      "Random policy\n"
     ]
    },
    {
     "data": {
      "image/png": "[encoded data removed]",
      "text/plain": [
       "<Figure size 648x432 with 1 Axes>"
      ]
     },
     "metadata": {
      "needs_background": "light"
     },
     "output_type": "display_data"
    }
   ],
   "source": [
    "arrows = {\"E\":(1,0), \"W\":(-1,0),\"N\":(0,1),\"S\":(0,-1)}\n",
    "scale = 0.25\n",
    "fig, ax = plt.subplots(figsize=(9, 6))\n",
    "for r, row in enumerate(policy_td):\n",
    "    for c, cell in enumerate(row):\n",
    "        if (r,c) == (3,7):\n",
    "            continue\n",
    "        \n",
    "        plt.arrow(c, 6-r, scale*arrows[cell.name][0], scale*arrows[cell.name][1], head_width=0.1)\n",
    "        \n",
    "\n",
    "ax.set_xticks([i + 0.5 for i in range(len(policy_td[0]))])\n",
    "ax.set_yticks([i + 0.5 for i in range(len(policy_td))])\n",
    "\n",
    "ax.grid(True, which='both', color='gray', linewidth=1, linestyle='-', alpha=0.5)\n",
    "\n",
    "print(\"wind: \", wind)\n",
    "print(\"Random policy\")"
   ]
  },
  {
   "cell_type": "code",
   "execution_count": 95,
   "id": "83443363",
   "metadata": {},
   "outputs": [
    {
     "name": "stdout",
     "output_type": "stream",
     "text": [
      "V_table at the beggining:\n",
      "0.000     0.000     0.000     0.000     0.000     0.000     0.000     0.000     0.000     0.000     \n",
      "0.000     0.000     0.000     0.000     0.000     0.000     0.000     0.000     0.000     0.000     \n",
      "0.000     0.000     0.000     0.000     0.000     0.000     0.000     0.000     0.000     0.000     \n",
      "0.000     0.000     0.000     0.000     0.000     0.000     0.000     0.000     0.000     0.000     \n",
      "0.000     0.000     0.000     0.000     0.000     0.000     0.000     0.000     0.000     0.000     \n",
      "0.000     0.000     0.000     0.000     0.000     0.000     0.000     0.000     0.000     0.000     \n",
      "0.000     0.000     0.000     0.000     0.000     0.000     0.000     0.000     0.000     0.000     \n",
      "\n"
     ]
    }
   ],
   "source": [
    "print(\"V_table at the beggining:\")\n",
    "for row in V_table_td:\n",
    "    for val in row:\n",
    "        print(f\"{val:.3f}\", end=\" \"*(10-len(f\"{val:.3f}\")))\n",
    "    print()  # Nowy wiersz\n",
    "print()  # Nowa linia między siatkami"
   ]
  },
  {
   "cell_type": "code",
   "execution_count": 96,
   "id": "32c57128",
   "metadata": {
    "scrolled": true
   },
   "outputs": [],
   "source": [
    "train_policy_td(n_episodes=10)"
   ]
  },
  {
   "cell_type": "code",
   "execution_count": 99,
   "id": "f8a6e8e0",
   "metadata": {},
   "outputs": [
    {
     "name": "stdout",
     "output_type": "stream",
     "text": [
      "wind:  [0 0 0 1 1 1 2 2 1 0]\n",
      "Policy after 10 episodes\n"
     ]
    },
    {
     "data": {
      "image/png": "[encoded data removed]",
      "text/plain": [
       "<Figure size 648x432 with 1 Axes>"
      ]
     },
     "metadata": {
      "needs_background": "light"
     },
     "output_type": "display_data"
    }
   ],
   "source": [
    "arrows = {\"E\":(1,0), \"W\":(-1,0),\"N\":(0,1),\"S\":(0,-1)}\n",
    "scale = 0.25\n",
    "fig, ax = plt.subplots(figsize=(9, 6))\n",
    "for r, row in enumerate(policy_td):\n",
    "    for c, cell in enumerate(row):\n",
    "        if (r,c) == (3,7):\n",
    "            continue\n",
    "        \n",
    "        plt.arrow(c, 6-r, scale*arrows[cell.name][0], scale*arrows[cell.name][1], head_width=0.1)\n",
    "        \n",
    "\n",
    "ax.set_xticks([i + 0.5 for i in range(len(policy_td[0]))])\n",
    "ax.set_yticks([i + 0.5 for i in range(len(policy_td))])\n",
    "\n",
    "ax.grid(True, which='both', color='gray', linewidth=1, linestyle='-', alpha=0.5)\n",
    "\n",
    "print(\"wind: \", wind)\n",
    "print(\"Policy after 10 episodes\")"
   ]
  },
  {
   "cell_type": "code",
   "execution_count": 100,
   "id": "3a208fca",
   "metadata": {},
   "outputs": [
    {
     "name": "stdout",
     "output_type": "stream",
     "text": [
      "V_table after 10 episodes:\n",
      "-5.372    -5.204    -5.327    -5.316    -5.403    -5.505    -5.613    -5.401    -4.903    -4.412    \n",
      "-5.240    -5.013    -5.324    -5.468    -5.518    -5.663    -5.302    -4.091    -4.341    -3.912    \n",
      "-5.090    -4.923    -5.190    -5.479    -5.302    -4.901    -4.838    -3.147    -3.958    -3.342    \n",
      "-4.923    -4.808    -5.094    -5.217    -5.158    -4.876    -4.528    0.000     -2.580    -2.673    \n",
      "-5.114    -4.999    -5.018    -5.053    -5.135    -4.826    0.000     -2.084    -0.999    -1.891    \n",
      "-5.012    -4.947    -5.118    -5.035    -4.922    0.000     0.000     -0.725    -0.750    -1.212    \n",
      "-4.851    -5.050    -4.853    -5.214    0.000     0.000     0.000     0.000     -0.750    -1.100    \n",
      "\n"
     ]
    }
   ],
   "source": [
    "print(\"V_table after 10 episodes:\")\n",
    "for row in V_table_td:\n",
    "    for val in row:\n",
    "        print(f\"{val:.3f}\", end=\" \"*(10-len(f\"{val:.3f}\")))\n",
    "    print()  # Nowy wiersz\n",
    "print()  # Nowa linia między siatkami"
   ]
  },
  {
   "cell_type": "markdown",
   "id": "5b4a48e8",
   "metadata": {},
   "source": [
    "Po 10 epizodach jest niezły na finiszu, ale beznadziejny na starcie (prawdopodobnie ukończyłby epizod tylko dzięki eksploracji epsilonowej)"
   ]
  },
  {
   "cell_type": "code",
   "execution_count": 101,
   "id": "7948bca1",
   "metadata": {},
   "outputs": [],
   "source": [
    "train_policy_td(n_episodes=90)"
   ]
  },
  {
   "cell_type": "code",
   "execution_count": 102,
   "id": "344ddb32",
   "metadata": {},
   "outputs": [
    {
     "name": "stdout",
     "output_type": "stream",
     "text": [
      "wind:  [0 0 0 1 1 1 2 2 1 0]\n",
      "Policy after 100 episodes\n"
     ]
    },
    {
     "data": {
      "image/png": "[encoded data removed]",
      "text/plain": [
       "<Figure size 648x432 with 1 Axes>"
      ]
     },
     "metadata": {
      "needs_background": "light"
     },
     "output_type": "display_data"
    }
   ],
   "source": [
    "arrows = {\"E\":(1,0), \"W\":(-1,0),\"N\":(0,1),\"S\":(0,-1)}\n",
    "scale = 0.25\n",
    "fig, ax = plt.subplots(figsize=(9, 6))\n",
    "for r, row in enumerate(policy_td):\n",
    "    for c, cell in enumerate(row):\n",
    "        if (r,c) == (3,7):\n",
    "            continue\n",
    "        \n",
    "        plt.arrow(c, 6-r, scale*arrows[cell.name][0], scale*arrows[cell.name][1], head_width=0.1)\n",
    "        \n",
    "\n",
    "ax.set_xticks([i + 0.5 for i in range(len(policy_td[0]))])\n",
    "ax.set_yticks([i + 0.5 for i in range(len(policy_td))])\n",
    "\n",
    "ax.grid(True, which='both', color='gray', linewidth=1, linestyle='-', alpha=0.5)\n",
    "\n",
    "print(\"wind: \", wind)\n",
    "print(\"Policy after 100 episodes\")"
   ]
  },
  {
   "cell_type": "code",
   "execution_count": 103,
   "id": "715d95ed",
   "metadata": {},
   "outputs": [
    {
     "name": "stdout",
     "output_type": "stream",
     "text": [
      "V_table after 100 episodes:\n",
      "-7.874    -7.780    -7.588    -7.333    -7.117    -6.811    -6.177    -5.724    -5.291    -4.844    \n",
      "-7.947    -7.925    -7.584    -7.299    -7.143    -6.621    -6.597    -5.819    -5.290    -4.271    \n",
      "-8.020    -7.863    -7.616    -7.377    -7.048    -7.016    -6.287    -4.261    -4.485    -3.829    \n",
      "-8.119    -7.946    -7.745    -7.442    -7.274    -6.685    -6.557    0.000     -4.327    -3.089    \n",
      "-7.988    -7.808    -7.636    -7.485    -7.016    -6.852    0.000     -1.136    -1.000    -1.900    \n",
      "-7.850    -7.684    -7.516    -7.293    -7.252    0.000     0.000     -2.094    -2.288    -2.924    \n",
      "-7.756    -7.682    -7.596    -7.473    0.000     0.000     0.000     0.000     -2.340    -2.792    \n",
      "\n"
     ]
    }
   ],
   "source": [
    "print(\"V_table after 100 episodes:\")\n",
    "for row in V_table_td:\n",
    "    for val in row:\n",
    "        print(f\"{val:.3f}\", end=\" \"*(10-len(f\"{val:.3f}\")))\n",
    "    print()  # Nowy wiersz\n",
    "print()  # Nowa linia między siatkami"
   ]
  },
  {
   "cell_type": "markdown",
   "id": "feb4bb92",
   "metadata": {},
   "source": [
    "Po 100 epizodach jest całkowicie optymalny."
   ]
  },
  {
   "cell_type": "markdown",
   "id": "78924861",
   "metadata": {},
   "source": [
    "## Reprodukcja wykresu"
   ]
  },
  {
   "cell_type": "code",
   "execution_count": 115,
   "id": "ce60cef3",
   "metadata": {},
   "outputs": [],
   "source": [
    "# Random starting policy (deterministic!)\n",
    "policy_td = [[np.random.choice(list(Action)) for i in range(10)] for j in range(7)]\n",
    "# V_table[wiersz][kolumna]\n",
    "V_table_td = [[0.0 for j in range(10)] for k in range(7)]"
   ]
  },
  {
   "cell_type": "code",
   "execution_count": 116,
   "id": "ed9fd503",
   "metadata": {},
   "outputs": [],
   "source": [
    "t = train_policy_td(n_episodes=150)"
   ]
  },
  {
   "cell_type": "code",
   "execution_count": 117,
   "id": "b0ea3901",
   "metadata": {},
   "outputs": [],
   "source": [
    "import seaborn as sns"
   ]
  },
  {
   "cell_type": "code",
   "execution_count": 122,
   "id": "eafa8241",
   "metadata": {},
   "outputs": [
    {
     "name": "stderr",
     "output_type": "stream",
     "text": [
      "/Users/hubert/opt/anaconda3/lib/python3.9/site-packages/seaborn/_decorators.py:36: FutureWarning: Pass the following variables as keyword args: x, y. From version 0.12, the only valid positional argument will be `data`, and passing other arguments without an explicit keyword will result in an error or misinterpretation.\n",
      "  warnings.warn(\n"
     ]
    },
    {
     "data": {
      "image/png": "[encoded data removed]",
      "text/plain": [
       "<Figure size 432x288 with 1 Axes>"
      ]
     },
     "metadata": {
      "needs_background": "light"
     },
     "output_type": "display_data"
    }
   ],
   "source": [
    "x = [i for i in range(2000)]\n",
    "sns.lineplot(x, t)\n",
    "plt.ylabel(\"Episodes completed\")\n",
    "plt.xlabel(\"Total timesteps\")\n",
    "plt.show()"
   ]
  },
  {
   "cell_type": "code",
   "execution_count": null,
   "id": "fa524fa5",
   "metadata": {},
   "outputs": [],
   "source": []
  }
 ],
 "metadata": {
  "kernelspec": {
   "display_name": "Python 3 (ipykernel)",
   "language": "python",
   "name": "python3"
  },
  "language_info": {
   "codemirror_mode": {
    "name": "ipython",
    "version": 3
   },
   "file_extension": ".py",
   "mimetype": "text/x-python",
   "name": "python",
   "nbconvert_exporter": "python",
   "pygments_lexer": "ipython3",
   "version": "3.9.12"
  }
 },
 "nbformat": 4,
 "nbformat_minor": 5
}
