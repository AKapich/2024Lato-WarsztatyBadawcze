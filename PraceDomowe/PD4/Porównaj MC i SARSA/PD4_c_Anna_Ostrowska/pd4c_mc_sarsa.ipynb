{
 "cells": [
  {
   "cell_type": "markdown",
   "source": [
    "# WB PD3 - Porównaj MC i TD\n",
    "## Zadanie\n",
    "Dla wybranej przez siebie gry na siatce (np. jednej z możliwych do wyboru z PD2 albo \"Windy Gridworld\", który jest przedstawiony w książce Barto na stronie 130) zaimplementuj którąś wersje algorytmu MC oraz algorytm TD. Porównaj ich działanie. Czy zbiegały tak samo szybko? Jak dużą nagrodę miały algorytmy w czasie uczenia?\n",
    "## Wybrana gra\n",
    "Modyfikacja przykładu 4.1 z książki ze strony 76. Plansza jest 7x7. Gracz może się po niej poruszać w 4 kierunkach. Gdy będzie próbował wejść w ścianę, to jego pozycja się nie zmienia. Za każdym ruchem dostaje \"nagrodę\" -1. Koniec gry następuje, gdy wejdzie do prawego dolnego albo lewego górnego rogu. Idąc w prawo, gracz przechodzi dwa pola zamiast jednego (jeżeli jest o jedno pole od ściany, to jedynie idzie o jedno pole)."
   ],
   "metadata": {
    "collapsed": false
   },
   "id": "be43eb662a935236"
  },
  {
   "cell_type": "code",
   "execution_count": 2,
   "id": "initial_id",
   "metadata": {
    "collapsed": true,
    "ExecuteTime": {
     "end_time": "2024-04-17T23:56:38.924638Z",
     "start_time": "2024-04-17T23:56:38.327377Z"
    }
   },
   "outputs": [],
   "source": [
    "import numpy as np\n",
    "import pandas as pd"
   ]
  },
  {
   "cell_type": "code",
   "outputs": [],
   "source": [
    "#gra\n",
    "#niech zaczyna w dolnym lewnym rogu\n",
    "start = (6,0)\n",
    "end = [(6, 6), (0, 0)]\n",
    "acts = ['UP', 'DOWN', 'LEFT', 'RIGHT']\n",
    "eps=0.1\n",
    "\n",
    "#ruchy\n",
    "def take_action(state, action):\n",
    "    r,c = state\n",
    "\n",
    "    if action == 'UP':\n",
    "        next_state = (max(r - 1, 0), c)\n",
    "    elif action == 'DOWN':\n",
    "        next_state = (min(r + 1, 6), c)\n",
    "    elif action == 'LEFT':\n",
    "        next_state = (r, max(c - 1, 0))\n",
    "    elif action == 'RIGHT':\n",
    "        if c == 5 or c==6:\n",
    "            next_state = (r, 6)\n",
    "        else:\n",
    "            next_state = (r, c+2)\n",
    "    reward = -1\n",
    "    return next_state, reward\n",
    "\n",
    "# update polityki\n",
    "def update_policy(state, policy, epsilon, Q, A=acts):\n",
    "    best_actions = [a for a in A if Q[state][a] == max(Q[state].values())]\n",
    "    policy[state] = {a: 0 for a in A}\n",
    "    for a in A:\n",
    "        if (len(A)-len(best_actions))==0:\n",
    "            policy[state][a]=1/len(A)\n",
    "        elif a in best_actions:\n",
    "            policy[state][a] = (1 - epsilon)/len(best_actions)\n",
    "        else:\n",
    "            policy[state][a] = epsilon/(len(A)-len(best_actions))\n",
    "    return policy\n",
    "\n",
    "\n",
    "#stosowanie polityki\n",
    "def choose_action(state, policy):\n",
    "    acts = list(policy[state].keys())\n",
    "    probabilities = list(policy[state].values())\n",
    "    return np.random.choice(acts, p=probabilities)\n",
    "\n",
    "# Algorytm mc\n",
    "def first_visit_mc_control(epsilon=eps, episodes=5000, A=acts):\n",
    "    policy = {}\n",
    "    Q = {}\n",
    "    returns = {}\n",
    "    count= 0 #do zliczania epizodów bez zmiany polityki\n",
    "    sum_G=0\n",
    "\n",
    "    for i in range(7):\n",
    "        for j in range(7):\n",
    "            state = (i, j)\n",
    "            policy[state] = {a: 0.25 for a in A}\n",
    "            Q[state] = {a: 0 for a in A}\n",
    "            returns[state] = {a: [] for a in A}\n",
    "\n",
    "    for ep in range(episodes):\n",
    "        state = tuple(np.random.randint(0, 7, 2))\n",
    "        states = [state]\n",
    "        rewards = [0]\n",
    "        actions=[]\n",
    "\n",
    "        while state not in end:\n",
    "            action = choose_action(state,policy)\n",
    "            next_state, reward = take_action(state, action)\n",
    "            states.append(next_state)\n",
    "            actions.append(action)\n",
    "            rewards.append(reward)\n",
    "            state = next_state\n",
    "        G=0\n",
    "\n",
    "        for t in reversed(range(len(states) - 1)):\n",
    "            state = states[t]\n",
    "            action = actions[t]\n",
    "            reward = rewards[t + 1]\n",
    "            G = reward + G\n",
    "            if (state, action) not in zip(states[:t], actions[:t]):\n",
    "                old_policy=policy.copy()\n",
    "                returns[state][action].append(G)\n",
    "                Q[state][action] = np.mean(returns[state][action])\n",
    "                new_policy=update_policy(state, policy, epsilon, Q)\n",
    "                if new_policy!=old_policy:\n",
    "                    count=0\n",
    "                policy=new_policy\n",
    "        count+=1\n",
    "        if (count==100):\n",
    "            break\n",
    "        sum_G+=G\n",
    "    return ep, sum_G, policy\n",
    "#algorytm td\n",
    "\n",
    "def sarsa(alpha, episodes=5000, gamma=1.0, epsilon=eps):\n",
    "    count=0\n",
    "    Q = {}\n",
    "    policy = {}\n",
    "    sum_G=0\n",
    "    for i in range(7):\n",
    "        for j in range(7):\n",
    "            state = (i, j)\n",
    "            Q[state] = {a:0 for a in acts}\n",
    "            policy[state] = {a: 0.25 for a in acts}\n",
    "    for ep in range(episodes):\n",
    "        state = tuple(np.random.randint(0, 7, 2))\n",
    "        action = choose_action(state,policy)\n",
    "        while state not in end:\n",
    "            next_state, reward = take_action(state, action)\n",
    "            sum_G+=reward\n",
    "            next_action = choose_action(next_state,policy)\n",
    "            Q[state][action] += alpha * (reward + gamma * Q[next_state][next_action] - Q[state][action])\n",
    "            state = next_state\n",
    "            action=next_action\n",
    "            old_policy=policy.copy()\n",
    "            new_policy=update_policy(state, policy, epsilon, Q)\n",
    "            if new_policy!=old_policy:\n",
    "                count=0\n",
    "            policy=new_policy\n",
    "        count+=1\n",
    "        if count==100:\n",
    "            break\n",
    "            \n",
    "    return ep, sum_G, policy"
   ],
   "metadata": {
    "collapsed": false,
    "ExecuteTime": {
     "end_time": "2024-04-17T23:56:39.632012Z",
     "start_time": "2024-04-17T23:56:39.588314Z"
    }
   },
   "id": "59c963effcafa18a",
   "execution_count": 3
  },
  {
   "cell_type": "code",
   "outputs": [],
   "source": [
    "# badanie zbieznosci \n",
    "avg_ep_mc=0\n",
    "avg_ep_sarsa_a1=0\n",
    "avg_ep_sarsa_a2=0\n",
    "avg_ep_sarsa_a3=0\n",
    "avg_ep_sarsa_a4=0\n",
    "avg_ep_sarsa_a5=0\n",
    "avg_ep_sarsa_a6=0\n",
    "avg_ep_sarsa_a7=0\n",
    "avg_ep_sarsa_a8=0\n",
    "reward1=0\n",
    "reward2=0\n",
    "reward3=0\n",
    "reward5=0\n",
    "reward4=0\n",
    "reward6=0\n",
    "reward7=0\n",
    "reward8=0\n",
    "reward9=0\n",
    "for i in range(10):\n",
    "    ep1, Q1, p=first_visit_mc_control()\n",
    "    avg_ep_mc+=ep1\n",
    "    reward1+=Q1\n",
    "    ep4, Q4,p=sarsa(alpha=0.13)\n",
    "    avg_ep_sarsa_a3+=ep4\n",
    "    reward4+=Q4\n",
    "    ep5, Q5,p=sarsa(alpha=0.15)\n",
    "    avg_ep_sarsa_a4+=ep5\n",
    "    reward5+=Q5\n",
    "    ep6, Q6,p=sarsa(alpha=0.2)\n",
    "    avg_ep_sarsa_a5+=ep6\n",
    "    reward6+=Q6\n",
    "    ep7, Q7,p=sarsa(alpha=0.22)\n",
    "    avg_ep_sarsa_a6+=ep7\n",
    "    reward7+=Q7\n",
    "    ep8, Q8,p=sarsa(alpha=0.25)\n",
    "    avg_ep_sarsa_a7+=ep8\n",
    "    reward8+=Q8\n",
    "\n",
    "    \n",
    "print(f\"Average number of episodes for Monte Carlo: {avg_ep_mc/10}, reward: {reward1/(avg_ep_mc)}\")\n",
    "print(f\"Average number of episodes for SARSA (alpha=0.13): {avg_ep_sarsa_a3/10}, reward: {reward4/(avg_ep_sarsa_a3)}\")\n",
    "print(f\"Average number of episodes for SARSA (alpha=0.15): {avg_ep_sarsa_a4/10}, reward: {reward5/(avg_ep_sarsa_a4)}\")\n",
    "print(f\"Average number of episodes for SARSA (alpha=0.2): {avg_ep_sarsa_a5/10}, reward: {reward6/(avg_ep_sarsa_a5)}\")\n",
    "print(f\"Average number of episodes for SARSA (alpha=0.22): {avg_ep_sarsa_a6/10}, reward: {reward7/(avg_ep_sarsa_a6)}\")\n",
    "print(f\"Average number of episodes for SARSA (alpha=0.25): {avg_ep_sarsa_a7/10}, reward: {reward8/(avg_ep_sarsa_a7)}\")"
   ],
   "metadata": {
    "collapsed": false,
    "ExecuteTime": {
     "end_time": "2024-04-17T23:09:04.332316Z",
     "start_time": "2024-04-17T23:09:04.332316Z"
    }
   },
   "id": "3748a7e4f44b821f",
   "execution_count": null
  },
  {
   "cell_type": "code",
   "outputs": [
    {
     "data": {
      "text/plain": "<Figure size 700x700 with 1 Axes>",
      "image/png": "[encoded data removed]"
     },
     "metadata": {},
     "output_type": "display_data"
    },
    {
     "data": {
      "text/plain": "<Figure size 700x700 with 1 Axes>",
      "image/png": "[encoded data removed]"
     },
     "metadata": {},
     "output_type": "display_data"
    }
   ],
   "source": [
    "import matplotlib.pyplot as plt\n",
    "import numpy as np\n",
    "import pandas as pd\n",
    "\n",
    "a,b,policy2=sarsa(alpha=0.45, epsilon=0.1)\n",
    "a,b,policy=first_visit_mc_control()\n",
    "import numpy as np\n",
    "\n",
    "\n",
    "#rysowanie polityki dla sprawdzenia\n",
    "def plot_policy_arrows(policy, end, start=start):\n",
    "    plt.figure(figsize=(7, 7))\n",
    "    plt.imshow(np.zeros((7, 7)), cmap='gray', vmin=0, vmax=1, origin='lower', extent=[0, 6, 0, 6])\n",
    "    plt.grid(True)\n",
    "    \n",
    "    for i in range(7):\n",
    "        for j in range(7):\n",
    "            state = (i, j)\n",
    "    \n",
    "            if state in end:\n",
    "                plt.text(j, i, 'END', color='red', ha='center', va='center', fontsize=10)\n",
    "                continue\n",
    "    \n",
    "            best_action = max(policy[state], key=policy[state].get)\n",
    "            arrows = {\n",
    "                'UP': '^',\n",
    "                'DOWN': 'v',\n",
    "                'LEFT': '<',\n",
    "                'RIGHT': '>'\n",
    "            }\n",
    "    \n",
    "            plt.text(j, i, arrows[best_action], color='blue', ha='center', va='center', fontsize=10)\n",
    "    \n",
    "    plt.xlim(-0.5, 6.5)\n",
    "    plt.ylim(-0.5, 6.5)\n",
    "    plt.gca().invert_yaxis()  # Odwrócenie osi y dla lepszego zrozumienia siatki\n",
    "    plt.title(\"Policy Arrows\")\n",
    "    plt.xlabel('Column')\n",
    "    plt.ylabel('Row')\n",
    "    plt.show()\n",
    "\n",
    "\n",
    "plot_policy_arrows(policy=policy, end=end)\n",
    "plot_policy_arrows(policy=policy2, end=end)"
   ],
   "metadata": {
    "collapsed": false,
    "ExecuteTime": {
     "end_time": "2024-04-17T23:53:04.845571Z",
     "start_time": "2024-04-17T23:52:58.692713Z"
    }
   },
   "id": "9fa9b46b79a0ec26",
   "execution_count": 18
  },
  {
   "cell_type": "markdown",
   "source": [
    "ogólnie to nie wiem, czemu tak wolno zbiega Sarsa - polityka końcowa wydaje się dobra, alphy inne też próbowałam dać i było tylko gorzej, te w zakresie (0.12,0.3) wypadały najlepiej. Za to polityka wyznaczona przez mc nie do końca jest dobra. Spróbuję przejść dokładniej po dużej ilości wartości alpha i epsilon i zobaczyć, dla jakich sarsa zbiega najszybciej."
   ],
   "metadata": {
    "collapsed": false
   },
   "id": "1d819da051ac415e"
  },
  {
   "cell_type": "code",
   "outputs": [],
   "source": [
    "epsilons = np.linspace(0.01, 0.3, 4)\n",
    "alphas = np.linspace(0.01, 0.5,12)\n",
    "results=[]\n",
    "\n",
    "for epsilon in epsilons:\n",
    "    for alpha in alphas:\n",
    "        avg_nr=0\n",
    "        avg_r=0\n",
    "        for i in range(10):\n",
    "            ep, r, p=sarsa(alpha=alpha, epsilon=epsilon)\n",
    "            avg_nr+=ep\n",
    "            avg_r+=r\n",
    "        results.append((epsilon, alpha, avg_nr/10, avg_r/avg_nr))\n"
   ],
   "metadata": {
    "collapsed": false,
    "ExecuteTime": {
     "start_time": "2024-04-17T23:39:50.327672Z"
    }
   },
   "id": "a293622508b917c3",
   "execution_count": null
  },
  {
   "cell_type": "code",
   "outputs": [],
   "source": [
    "best = min(results, key=lambda x: x[2])\n",
    "best"
   ],
   "metadata": {
    "collapsed": false
   },
   "id": "9546f3d426a7c1fd",
   "execution_count": null
  },
  {
   "cell_type": "markdown",
   "source": [
    "najlepsze: eps=0.01, alpha=0.46 "
   ],
   "metadata": {
    "collapsed": false
   },
   "id": "952f670315f7cdf"
  },
  {
   "cell_type": "code",
   "outputs": [
    {
     "name": "stdout",
     "output_type": "stream",
     "text": [
      "Average number of episodes for Monte Carlo: 320.7,  avg reward in 1 episode: -9.396320548799501\n",
      "Average number of episodes for SARSA (alpha=0.46, eps=0.01): 1686.4, avg reward in 1 episode: -4.143738140417457\n",
      "Average number of episodes for SARSA (alpha=0.15, eps=0.01): 2862.3, avg reward in 1 episode: -4.597351780037033\n",
      "Average number of episodes for SARSA (alpha=0.27, eps=0.05): 3096.6, avg reward in 1 episode: -4.247949363818382\n"
     ]
    }
   ],
   "source": [
    "avg_ep_mc=0\n",
    "reward1=0\n",
    "avg_ep_sarsa_a=0\n",
    "reward2=0\n",
    "avg_ep_sarsa_a2=0\n",
    "reward3=0\n",
    "avg_ep_sarsa_a3=0\n",
    "reward4=0\n",
    "for i in range(10):\n",
    "    ep1, Q1, p=first_visit_mc_control()\n",
    "    avg_ep_mc+=ep1\n",
    "    reward1+=Q1\n",
    "    ep2, Q2,p=sarsa(alpha=0.46, epsilon=0.01)\n",
    "    avg_ep_sarsa_a+=ep2\n",
    "    reward2+=Q2\n",
    "    ep3, Q3,p=sarsa(alpha=0.15, epsilon=0.01)\n",
    "    avg_ep_sarsa_a2+=ep3\n",
    "    reward3+=Q3\n",
    "    ep4, Q4,p=sarsa(alpha=0.27, epsilon=0.05)\n",
    "    avg_ep_sarsa_a3+=ep4\n",
    "    reward4+=Q4\n",
    "\n",
    "\n",
    "print(f\"Average number of episodes for Monte Carlo: {avg_ep_mc/10},  avg reward in 1 episode: {reward1/(avg_ep_mc)}\")\n",
    "print(f\"Average number of episodes for SARSA (alpha=0.46, eps=0.01): {avg_ep_sarsa_a/10}, avg reward in 1 episode: {reward2/(avg_ep_sarsa_a)}\")\n",
    "print(f\"Average number of episodes for SARSA (alpha=0.15, eps=0.01): {avg_ep_sarsa_a2/10}, avg reward in 1 episode: {reward3/(avg_ep_sarsa_a2)}\")\n",
    "print(f\"Average number of episodes for SARSA (alpha=0.27, eps=0.05): {avg_ep_sarsa_a3/10}, avg reward in 1 episode: {reward4/(avg_ep_sarsa_a3)}\")"
   ],
   "metadata": {
    "collapsed": false,
    "ExecuteTime": {
     "end_time": "2024-04-18T00:03:11.958658Z",
     "start_time": "2024-04-18T00:02:42.969491Z"
    }
   },
   "id": "f5fa71ca0b61a755",
   "execution_count": 6
  },
  {
   "cell_type": "markdown",
   "source": [
    "Algorytm Sarsa dużo wolniej zbieżny, ale za to dokładniejszy lepsza nagroda, bo w mc polityka finalna nie do końca dobra (nie jest najgorsza, ale mogłaby być lepsza). Nie wiem, czy coś źle napisałam, czy to możliwe, że tak jest, ale już długo próbowałam naprawić i nie działało:)"
   ],
   "metadata": {
    "collapsed": false
   },
   "id": "3792b190d3537d83"
  }
 ],
 "metadata": {
  "kernelspec": {
   "display_name": "Python 3",
   "language": "python",
   "name": "python3"
  },
  "language_info": {
   "codemirror_mode": {
    "name": "ipython",
    "version": 2
   },
   "file_extension": ".py",
   "mimetype": "text/x-python",
   "name": "python",
   "nbconvert_exporter": "python",
   "pygments_lexer": "ipython2",
   "version": "2.7.6"
  }
 },
 "nbformat": 4,
 "nbformat_minor": 5
}
