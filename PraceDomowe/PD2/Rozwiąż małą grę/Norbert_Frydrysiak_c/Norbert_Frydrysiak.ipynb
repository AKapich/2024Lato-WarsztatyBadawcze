{
 "cells": [
  {
   "cell_type": "markdown",
   "source": [
    "## Równanie Bellmana\n",
    "\n",
    "Na zajęciach wyprowadzone zostało równanie Bellmana:\n",
    "\n",
    "$$\\forall_{s\\in S} v_{\\pi}(s) = \\sum_{a\\in A} \\pi (a|s) \\cdot \\sum_{s'\\in S, r\\in R} p(s',r|s,a)\\cdot (r+\\gamma\\cdot v_{\\pi}(s'))$$\n",
    "\n",
    "gdzie $\\pi (a|s)$ oraz $p(s',r|s,a)$ są znane.\n",
    "\n",
    "Jest to układ $|S|$ równań liniowych z $|S|$ niewiadomymi, który ma jednoznaczne rozwiązanie, gdy $\\gamma\\in [0,1)$.\n",
    "\n",
    "Jedną z numerycznych metod rozwiązywania tego układu jest zaczęcie z jakiegokolwiek wektora dla $v_{\\pi}^{(0)}(s)$, wstawienie go do prawej strony równań i w ten sposób otrzymanie nowego wektora $v_{\\pi}^{(1)}(s)$. Iterowanie tej metody zbiegnie do prawdziwego $v_{\\pi}(s)$.\n",
    "\n",
    "Po zbiegnięciu można wybrać alternatywną politykę $\\pi'$ taką, że jest ona zachłanna względem $v_{\\pi}(s)$. Będzie ona na pewno lepsza, czyli $\\pi' \\ge \\pi$. Jeśli będzie $\\pi' = \\pi$, to znaczy, że algorytm się zakończył i mamy $\\pi = \\pi^*$, czyli znaleźliśmy optymalną politykę dla danego środowiska.\n",
    "\n",
    "Powyższy algorytm nazywa się **Programowanie Dynamiczne**.\n",
    "\n",
    "(c, 5 pkt) Mamy $s \\in \\{1, 2, \\ldots , 98, 99\\}$ PLN. Jeśli będziemy mieli $100$, to agent dostaje +10. W każdym innym przypadku agent dostaje 0. Gra kończy się gdy mamy $0$, albo $100$ PLN. Agent może w jednym kroku postawić na szali dowolną liczbę złotych, ale nie mniej niż 1 i nie więcej niż posiada. Szansa wygranej jest $p$, która jest parametrem. Zbadaj $p=0.4$ (strona 84 w książce) oraz $p=0.9$.\n",
    "\n",
    "Jaka jest optymalna strategia grania? Zwizualizuj, rysując wykres słupkowy, gdzie na osi OX jest liczba posiadanych pieniędzy, a na osi OY wartość, którą agent powinien postawić. Czy wynik zależy od $\\gamma$? Jeśli tak / nie, to dlaczego? Zinterpretuj.\n"
   ],
   "metadata": {
    "collapsed": false
   },
   "id": "6cbc9375462760bc"
  },
  {
   "cell_type": "code",
   "execution_count": 1,
   "id": "initial_id",
   "metadata": {
    "collapsed": true,
    "ExecuteTime": {
     "end_time": "2024-03-11T20:46:39.916823Z",
     "start_time": "2024-03-11T20:46:39.389485Z"
    }
   },
   "outputs": [],
   "source": [
    "import numpy as np"
   ]
  },
  {
   "cell_type": "markdown",
   "source": [
    "Stany:\n",
    "- $s=0$ - przegrana\n",
    "- $s=100$ - wygrana\n",
    "- $s\\in \\{1, 2, \\ldots , 98, 99\\}$ - stan pośredni\n",
    "- $s\\in \\{0, 1, \\ldots , 98, 99, 100\\}$ - wszystkie stany\n",
    "\n",
    "Akcje:\n",
    "- $a\\in \\{1, 2, \\ldots , min(s, 50, 100-s)\\}$ - stawka, bo więcej niż 50 nie ma sensu stawiać\n",
    "\n",
    "Nagrody:\n",
    "- $r=0$ - $s \\in \\{0, 1, \\ldots , 98, 99\\}$ \n",
    "- $r=10$ - $s=100$"
   ],
   "metadata": {
    "collapsed": false
   },
   "id": "a1b6aed5708be73b"
  },
  {
   "cell_type": "code",
   "execution_count": 52,
   "outputs": [
    {
     "name": "stdout",
     "output_type": "stream",
     "text": [
      "state: 0, policy: 0, V_s: 0\n",
      "state: 1, policy: 1, V_s: 0.020656247765443163\n",
      "state: 2, policy: 2, V_s: 0.051640619413607904\n",
      "state: 3, policy: 3, V_s: 0.09225471067793889\n",
      "state: 4, policy: 4, V_s: 0.12910154853401976\n",
      "state: 5, policy: 5, V_s: 0.17385398981324285\n",
      "state: 6, policy: 6, V_s: 0.23063677669484722\n",
      "state: 7, policy: 7, V_s: 0.27814113056270545\n",
      "state: 8, policy: 8, V_s: 0.3227538713350494\n",
      "state: 9, policy: 9, V_s: 0.37685072795366437\n",
      "state: 10, policy: 10, V_s: 0.43463497453310707\n",
      "state: 11, policy: 11, V_s: 0.5035446998069344\n",
      "state: 12, policy: 12, V_s: 0.576591941737118\n",
      "state: 13, policy: 12, V_s: 0.652393748659266\n",
      "state: 14, policy: 14, V_s: 0.6953528264067635\n",
      "state: 15, policy: 15, V_s: 0.7443123938879459\n",
      "state: 16, policy: 16, V_s: 0.8068846783376235\n",
      "state: 17, policy: 8, V_s: 0.8661104367721988\n",
      "state: 18, policy: 7, V_s: 0.9421268198841608\n",
      "state: 19, policy: 6, V_s: 1.0314362491955598\n",
      "state: 20, policy: 5, V_s: 1.0865874363327677\n",
      "state: 21, policy: 4, V_s: 1.1596662620633194\n",
      "state: 22, policy: 3, V_s: 1.258861749517336\n",
      "state: 23, policy: 2, V_s: 1.3357997572379916\n",
      "state: 24, policy: 1, V_s: 1.441479854342795\n",
      "state: 25, policy: 25, V_s: 1.6\n",
      "state: 26, policy: 1, V_s: 1.630984371648165\n",
      "state: 27, policy: 2, V_s: 1.677460929120412\n",
      "state: 28, policy: 28, V_s: 1.7383820660169087\n",
      "state: 29, policy: 4, V_s: 1.7936523228010297\n",
      "state: 30, policy: 30, V_s: 1.8607809847198646\n",
      "state: 31, policy: 6, V_s: 1.945955165042271\n",
      "state: 32, policy: 7, V_s: 2.0172116958440585\n",
      "state: 33, policy: 8, V_s: 2.084130807002574\n",
      "state: 34, policy: 34, V_s: 2.165276091930497\n",
      "state: 35, policy: 15, V_s: 2.251952461799661\n",
      "state: 36, policy: 36, V_s: 2.355317049710402\n",
      "state: 37, policy: 12, V_s: 2.4648879126056773\n",
      "state: 38, policy: 12, V_s: 2.578590622988899\n",
      "state: 39, policy: 11, V_s: 2.6430292396101454\n",
      "state: 40, policy: 10, V_s: 2.716468590831919\n",
      "state: 41, policy: 9, V_s: 2.8103270175064354\n",
      "state: 42, policy: 8, V_s: 2.8991656551582983\n",
      "state: 43, policy: 7, V_s: 3.0131902298262414\n",
      "state: 44, policy: 6, V_s: 3.1471543737933394\n",
      "state: 45, policy: 5, V_s: 3.229881154499151\n",
      "state: 46, policy: 4, V_s: 3.339499393094979\n",
      "state: 47, policy: 3, V_s: 3.4882926242760037\n",
      "state: 48, policy: 2, V_s: 3.6036996358569873\n",
      "state: 49, policy: 1, V_s: 3.7622197815141925\n",
      "state: 50, policy: 50, V_s: 4.0\n",
      "state: 51, policy: 1, V_s: 4.030984371648165\n",
      "state: 52, policy: 2, V_s: 4.077460929120412\n",
      "state: 53, policy: 3, V_s: 4.138382066016908\n",
      "state: 54, policy: 4, V_s: 4.19365232280103\n",
      "state: 55, policy: 5, V_s: 4.260780984719864\n",
      "state: 56, policy: 6, V_s: 4.345955165042271\n",
      "state: 57, policy: 7, V_s: 4.417211695844058\n",
      "state: 58, policy: 8, V_s: 4.484130807002574\n",
      "state: 59, policy: 9, V_s: 4.565276091930497\n",
      "state: 60, policy: 10, V_s: 4.651952461799661\n",
      "state: 61, policy: 11, V_s: 4.755317049710402\n",
      "state: 62, policy: 12, V_s: 4.864887912605678\n",
      "state: 63, policy: 12, V_s: 4.978590622988899\n",
      "state: 64, policy: 11, V_s: 5.043029239610146\n",
      "state: 65, policy: 10, V_s: 5.11646859083192\n",
      "state: 66, policy: 9, V_s: 5.210327017506435\n",
      "state: 67, policy: 8, V_s: 5.299165655158299\n",
      "state: 68, policy: 7, V_s: 5.413190229826242\n",
      "state: 69, policy: 6, V_s: 5.54715437379334\n",
      "state: 70, policy: 5, V_s: 5.629881154499152\n",
      "state: 71, policy: 4, V_s: 5.739499393094979\n",
      "state: 72, policy: 3, V_s: 5.888292624276005\n",
      "state: 73, policy: 2, V_s: 6.003699635856988\n",
      "state: 74, policy: 1, V_s: 6.162219781514192\n",
      "state: 75, policy: 25, V_s: 6.4\n",
      "state: 76, policy: 1, V_s: 6.446476557472247\n",
      "state: 77, policy: 2, V_s: 6.516191393680618\n",
      "state: 78, policy: 3, V_s: 6.6075730990253625\n",
      "state: 79, policy: 4, V_s: 6.690478484201544\n",
      "state: 80, policy: 5, V_s: 6.791171477079796\n",
      "state: 81, policy: 6, V_s: 6.918932747563407\n",
      "state: 82, policy: 18, V_s: 7.025817543766087\n",
      "state: 83, policy: 8, V_s: 7.126196210503861\n",
      "state: 84, policy: 9, V_s: 7.247914137895744\n",
      "state: 85, policy: 10, V_s: 7.377928692699491\n",
      "state: 86, policy: 11, V_s: 7.532975574565603\n",
      "state: 87, policy: 12, V_s: 7.697331868908515\n",
      "state: 88, policy: 12, V_s: 7.867885934483348\n",
      "state: 89, policy: 11, V_s: 7.964543859415217\n",
      "state: 90, policy: 10, V_s: 8.074702886247877\n",
      "state: 91, policy: 9, V_s: 8.215490526259652\n",
      "state: 92, policy: 8, V_s: 8.348748482737445\n",
      "state: 93, policy: 7, V_s: 8.519785344739361\n",
      "state: 94, policy: 6, V_s: 8.720731560690009\n",
      "state: 95, policy: 5, V_s: 8.844821731748727\n",
      "state: 96, policy: 4, V_s: 9.009249089642466\n",
      "state: 97, policy: 3, V_s: 9.232438936414006\n",
      "state: 98, policy: 2, V_s: 9.40554945378548\n",
      "state: 99, policy: 1, V_s: 9.643329672271287\n",
      "state: 100, policy: 0, V_s: 0\n"
     ]
    }
   ],
   "source": [
    "gamma=1\n",
    "p=0.4\n",
    "# numbers from 0 to 100 do it without numpy\n",
    "states = list(range(101))\n",
    "win_state=100; lose_state=0;\n",
    "\n",
    "def available_actions(s): # ograniczam trochę polityki, bo inne akcje są bez sensu\n",
    "    return np.arange(1, min(s,100-s, 50)+1)\n",
    "\n",
    "def reward(next_state): # nagroda powinna być na podstawie następnego statu\n",
    "    if next_state == 100:\n",
    "        return 10\n",
    "    else:\n",
    "        return 0\n",
    "\n",
    "def available_next_states(s, a):\n",
    "    return [s+a, s-a]\n",
    "\n",
    "def transition_probability(s, a, next_s):\n",
    "    if next_s == s+a:\n",
    "        return p\n",
    "    elif next_s == s-a:\n",
    "        return 1-p\n",
    "    else:\n",
    "        return 0\n",
    "\n",
    "V_s = [0]*101\n",
    "policy = [0]*101\n",
    "\n",
    "def update_v_bellman(s, policy): #???\n",
    "    best_action = policy[s]\n",
    "    best_action_value = float(\"-inf\")\n",
    "    for a in available_actions(s):\n",
    "        action_value = 0\n",
    "        for next_s in available_next_states(s, a):\n",
    "            action_value += transition_probability(s, a, next_s) * (reward(next_s) + gamma * V_s[next_s])\n",
    "        if action_value > best_action_value:\n",
    "            best_action_value = action_value\n",
    "            best_action = a\n",
    "    V_s[s] = best_action_value\n",
    "    policy[s] = best_action\n",
    "    return V_s, policy\n",
    "\n",
    "for _ in range(1000):\n",
    "    # without 0 and 100\n",
    "    for s in states[1:-1]:\n",
    "        V_s, policy = update_v_bellman(s, policy)\n",
    "    # reverse\n",
    "    #for s in states[-2:0:-1]:\n",
    "    #    V_s, policy = update_v_bellman(s, policy)\n",
    "        \n",
    "# print policy and V_s with numbers\n",
    "for s in states:\n",
    "    print(f\"state: {s}, policy: {policy[s]}, V_s: {V_s[s]}\")"
   ],
   "metadata": {
    "collapsed": false,
    "ExecuteTime": {
     "end_time": "2024-03-12T19:14:37.851258Z",
     "start_time": "2024-03-12T19:14:36.318764Z"
    }
   },
   "id": "ac6caf935665ad2e"
  },
  {
   "cell_type": "code",
   "execution_count": 53,
   "outputs": [
    {
     "data": {
      "text/plain": "<Figure size 640x480 with 1 Axes>",
      "image/png": "[encoded data removed]"
     },
     "metadata": {},
     "output_type": "display_data"
    }
   ],
   "source": [
    "import matplotlib.pyplot as plt\n",
    "plt.bar(states, policy)\n",
    "plt.show()"
   ],
   "metadata": {
    "collapsed": false,
    "ExecuteTime": {
     "end_time": "2024-03-12T19:14:38.542858Z",
     "start_time": "2024-03-12T19:14:38.462232Z"
    }
   },
   "id": "9058fe2eb1a099f"
  },
  {
   "cell_type": "code",
   "execution_count": 58,
   "outputs": [
    {
     "name": "stdout",
     "output_type": "stream",
     "text": [
      "[1 2 3 4 5]\n"
     ]
    }
   ],
   "source": [
    "print(available_actions(5))"
   ],
   "metadata": {
    "collapsed": false,
    "ExecuteTime": {
     "end_time": "2024-03-12T19:16:53.321238Z",
     "start_time": "2024-03-12T19:16:53.316131Z"
    }
   },
   "id": "11b0e8248432e4f2"
  },
  {
   "cell_type": "code",
   "execution_count": null,
   "outputs": [],
   "source": [
    "def bellman(p, gamma, n=100):\n",
    "    v = np.zeros(n+1)\n",
    "    for s in range(1, n):\n",
    "        v[s] = max([p * (v[s+a] if s+a < n else 10) + (1-p) * (v[s-a] if s-a > 0 else 0) for a in range(1, s+1)])\n",
    "    return v"
   ],
   "metadata": {
    "collapsed": false
   },
   "id": "518699b247133104"
  }
 ],
 "metadata": {
  "kernelspec": {
   "display_name": "Python 3",
   "language": "python",
   "name": "python3"
  },
  "language_info": {
   "codemirror_mode": {
    "name": "ipython",
    "version": 2
   },
   "file_extension": ".py",
   "mimetype": "text/x-python",
   "name": "python",
   "nbconvert_exporter": "python",
   "pygments_lexer": "ipython2",
   "version": "2.7.6"
  }
 },
 "nbformat": 4,
 "nbformat_minor": 5
}
