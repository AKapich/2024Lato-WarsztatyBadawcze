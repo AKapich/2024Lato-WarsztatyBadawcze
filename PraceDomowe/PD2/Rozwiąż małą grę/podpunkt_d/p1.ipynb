{
 "cells": [
  {
   "cell_type": "code",
   "execution_count": 84,
   "id": "initial_id",
   "metadata": {
    "collapsed": true,
    "ExecuteTime": {
     "end_time": "2024-03-10T15:03:37.651933517Z",
     "start_time": "2024-03-10T15:03:37.639279108Z"
    }
   },
   "outputs": [],
   "source": [
    "import numpy as np\n",
    "from enum import Enum"
   ]
  },
  {
   "cell_type": "code",
   "outputs": [],
   "source": [
    "class Action(Enum):\n",
    "    NORTH = (0, 1)\n",
    "    SOUTH = (0, -1)\n",
    "    EAST = (1, 0)\n",
    "    WEST = (-1, 0)\n",
    "\n",
    "\n",
    "def reward(s, a):\n",
    "    if s == (0, 1):\n",
    "        return 10, (4, 1)\n",
    "    elif s == (0, 3):\n",
    "        return 5, (2, 3)\n",
    "    elif s[0] + a[0] < 0 or s[0] + a[0] > 4 or s[1] + a[1] < 0 or s[1] + a[1] > 4:\n",
    "        return -1, s\n",
    "    else:\n",
    "        return 0, (s[0] + a[0], s[1] + a[1])"
   ],
   "metadata": {
    "collapsed": false,
    "ExecuteTime": {
     "end_time": "2024-03-10T15:03:37.680785142Z",
     "start_time": "2024-03-10T15:03:37.656256136Z"
    }
   },
   "id": "74d08082e9bef8c8",
   "execution_count": 85
  },
  {
   "cell_type": "markdown",
   "source": [
    "![image](./bellman.png)"
   ],
   "metadata": {
    "collapsed": false
   },
   "id": "b2ac9e40a988aaf4"
  },
  {
   "cell_type": "code",
   "outputs": [],
   "source": [
    "v = np.zeros((5, 5))\n",
    "s = (2, 2)\n",
    "gamma = .9\n",
    "action_p = .25\n",
    "policy = np.zeros(5, 5)\n",
    "\n",
    "def update_v(s):\n",
    "    new_vs = 0\n",
    "    for a in Action:\n",
    "        temp, next_s = reward(s, a.value)\n",
    "        temp += gamma * v[next_s[0], next_s[1]]\n",
    "        new_vs += action_p * temp\n",
    "    return new_vs\n"
   ],
   "metadata": {
    "collapsed": false,
    "ExecuteTime": {
     "end_time": "2024-03-10T15:03:37.690082885Z",
     "start_time": "2024-03-10T15:03:37.681019672Z"
    }
   },
   "id": "b29464294726aa91",
   "execution_count": 86
  },
  {
   "cell_type": "code",
   "outputs": [
    {
     "name": "stdout",
     "output_type": "stream",
     "text": [
      "[[ 3.3  8.8  4.4  5.3  1.5]\n",
      " [ 1.5  3.   2.3  1.9  0.5]\n",
      " [ 0.1  0.7  0.7  0.4 -0.4]\n",
      " [-1.  -0.4 -0.4 -0.6 -1.2]\n",
      " [-1.9 -1.3 -1.2 -1.4 -2. ]]\n"
     ]
    }
   ],
   "source": [
    "checkpoints = []\n",
    "for i in range(50):\n",
    "    for x in range(5):\n",
    "        for y in range(5):\n",
    "            v[x][y] = update_v((x, y))\n",
    "    checkpoints.append(np.round(v, 1))\n",
    "print(np.round(v, 1))"
   ],
   "metadata": {
    "collapsed": false,
    "ExecuteTime": {
     "end_time": "2024-03-10T15:03:37.725115876Z",
     "start_time": "2024-03-10T15:03:37.690156092Z"
    }
   },
   "id": "62c26c32fa16ae16",
   "execution_count": 87
  },
  {
   "cell_type": "markdown",
   "source": [
    "![image](./target.png)"
   ],
   "metadata": {
    "collapsed": false
   },
   "id": "7a260c822184ef6b"
  },
  {
   "cell_type": "code",
   "outputs": [
    {
     "data": {
      "text/plain": "[<matplotlib.lines.Line2D at 0x7fc155894f50>]"
     },
     "execution_count": 88,
     "metadata": {},
     "output_type": "execute_result"
    },
    {
     "data": {
      "text/plain": "<Figure size 640x480 with 1 Axes>",
      "image/png": "[encoded data removed]"
     },
     "metadata": {},
     "output_type": "display_data"
    }
   ],
   "source": [
    "import matplotlib.pyplot as plt\n",
    "\n",
    "diffs = []\n",
    "for i in range(1, len(checkpoints)):\n",
    "    diffs.append(np.sum(np.abs(checkpoints[i] - checkpoints[i - 1])))\n",
    "\n",
    "plt.plot(diffs)"
   ],
   "metadata": {
    "collapsed": false,
    "ExecuteTime": {
     "end_time": "2024-03-10T15:03:37.788320676Z",
     "start_time": "2024-03-10T15:03:37.702890812Z"
    }
   },
   "id": "da2b78ad3594eedf",
   "execution_count": 88
  },
  {
   "cell_type": "code",
   "outputs": [],
   "source": [],
   "metadata": {
    "collapsed": false,
    "ExecuteTime": {
     "end_time": "2024-03-10T15:03:37.842891570Z",
     "start_time": "2024-03-10T15:03:37.780148586Z"
    }
   },
   "id": "c2c5b643cfc5766a",
   "execution_count": 88
  }
 ],
 "metadata": {
  "kernelspec": {
   "display_name": "Python 3",
   "language": "python",
   "name": "python3"
  },
  "language_info": {
   "codemirror_mode": {
    "name": "ipython",
    "version": 2
   },
   "file_extension": ".py",
   "mimetype": "text/x-python",
   "name": "python",
   "nbconvert_exporter": "python",
   "pygments_lexer": "ipython2",
   "version": "2.7.6"
  }
 },
 "nbformat": 4,
 "nbformat_minor": 5
}
