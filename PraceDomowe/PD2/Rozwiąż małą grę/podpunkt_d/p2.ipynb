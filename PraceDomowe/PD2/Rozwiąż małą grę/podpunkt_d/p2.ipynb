{
 "cells": [
  {
   "cell_type": "code",
   "execution_count": 58,
   "id": "initial_id",
   "metadata": {
    "collapsed": true,
    "ExecuteTime": {
     "end_time": "2024-03-10T15:39:41.590603295Z",
     "start_time": "2024-03-10T15:39:41.588108425Z"
    }
   },
   "outputs": [],
   "source": [
    "import numpy as np\n",
    "from enum import Enum"
   ]
  },
  {
   "cell_type": "code",
   "outputs": [],
   "source": [
    "class Action(Enum):\n",
    "    NORTH = (-1, 0)\n",
    "    SOUTH = (1, 0)\n",
    "    EAST = (0, 1)\n",
    "    WEST = (0, -1)\n",
    "\n",
    "\n",
    "def reward(s, a):\n",
    "    if s == (0, 1):\n",
    "        return 10, (4, 1)\n",
    "    elif s == (0, 3):\n",
    "        return 5, (2, 3)\n",
    "    elif s[0] + a[0] < 0 or s[0] + a[0] > 4 or s[1] + a[1] < 0 or s[1] + a[1] > 4:\n",
    "        return -1, s\n",
    "    else:\n",
    "        return 0, (s[0] + a[0], s[1] + a[1])"
   ],
   "metadata": {
    "collapsed": false,
    "ExecuteTime": {
     "end_time": "2024-03-10T15:39:41.631037058Z",
     "start_time": "2024-03-10T15:39:41.630648749Z"
    }
   },
   "id": "74363189198c45c6",
   "execution_count": 59
  },
  {
   "cell_type": "code",
   "outputs": [],
   "source": [
    "v = np.zeros((5, 5))\n",
    "policy = [[None for _ in range(5)] for _ in range(5)]\n",
    "s = (2, 2)\n",
    "gamma = .9\n",
    "\n",
    "def update_v(s, policy):\n",
    "    best_action = None\n",
    "    best_value = float('-inf')\n",
    "    for a in Action:\n",
    "        r, next_s = reward(s, a.value)\n",
    "        value = r + gamma * v[next_s[0], next_s[1]]\n",
    "        if value > best_value:\n",
    "            best_value = value\n",
    "            best_action = a\n",
    "    v[s[0]][s[1]] = best_value\n",
    "    policy[s[0]][s[1]] = best_action\n",
    "    return v, policy"
   ],
   "metadata": {
    "collapsed": false,
    "ExecuteTime": {
     "end_time": "2024-03-10T15:39:41.631303488Z",
     "start_time": "2024-03-10T15:39:41.630830661Z"
    }
   },
   "id": "1996fff10f2dce5c",
   "execution_count": 60
  },
  {
   "cell_type": "code",
   "outputs": [],
   "source": [
    "for _ in range(100):\n",
    "    for i in range(5):\n",
    "        for j in range(5):\n",
    "            v, policy = update_v((i, j), policy)"
   ],
   "metadata": {
    "collapsed": false,
    "ExecuteTime": {
     "end_time": "2024-03-10T15:39:41.631558336Z",
     "start_time": "2024-03-10T15:39:41.630896394Z"
    }
   },
   "id": "f4dff549e0b8a51e",
   "execution_count": 61
  },
  {
   "cell_type": "markdown",
   "source": [
    "![](./p2_sol.png)"
   ],
   "metadata": {
    "collapsed": false
   },
   "id": "a970698e7e21fc75"
  },
  {
   "cell_type": "code",
   "outputs": [
    {
     "name": "stdout",
     "output_type": "stream",
     "text": [
      "[[22.  24.4 22.  19.4 17.5]\n",
      " [19.8 22.  19.8 17.8 16. ]\n",
      " [17.8 19.8 17.8 16.  14.4]\n",
      " [16.  17.8 16.  14.4 13. ]\n",
      " [14.4 16.  14.4 13.  11.7]]\n"
     ]
    }
   ],
   "source": [
    "print(np.round(v, 1))"
   ],
   "metadata": {
    "collapsed": false,
    "ExecuteTime": {
     "end_time": "2024-03-10T15:40:50.948786694Z",
     "start_time": "2024-03-10T15:40:50.837730966Z"
    }
   },
   "id": "810a05aa44960244",
   "execution_count": 64
  },
  {
   "cell_type": "code",
   "outputs": [
    {
     "name": "stdout",
     "output_type": "stream",
     "text": [
      "['EAST', 'NORTH', 'WEST', 'NORTH', 'WEST']\n",
      "['NORTH', 'NORTH', 'NORTH', 'WEST', 'WEST']\n",
      "['NORTH', 'NORTH', 'NORTH', 'NORTH', 'NORTH']\n",
      "['NORTH', 'NORTH', 'NORTH', 'NORTH', 'NORTH']\n",
      "['NORTH', 'NORTH', 'NORTH', 'NORTH', 'NORTH']\n"
     ]
    }
   ],
   "source": [
    "policy_directions = [[action.name if action else 'None' for action in row] for row in policy]\n",
    "for row in policy_directions:\n",
    "    print(row)"
   ],
   "metadata": {
    "collapsed": false,
    "ExecuteTime": {
     "end_time": "2024-03-10T15:40:58.558626587Z",
     "start_time": "2024-03-10T15:40:58.450003452Z"
    }
   },
   "id": "cb6de635952c7fe7",
   "execution_count": 65
  },
  {
   "cell_type": "code",
   "outputs": [],
   "source": [],
   "metadata": {
    "collapsed": false,
    "ExecuteTime": {
     "end_time": "2024-03-10T15:39:41.632368846Z",
     "start_time": "2024-03-10T15:39:41.630999547Z"
    }
   },
   "id": "8da8c262d5fd1f1c",
   "execution_count": 62
  }
 ],
 "metadata": {
  "kernelspec": {
   "display_name": "Python 3",
   "language": "python",
   "name": "python3"
  },
  "language_info": {
   "codemirror_mode": {
    "name": "ipython",
    "version": 2
   },
   "file_extension": ".py",
   "mimetype": "text/x-python",
   "name": "python",
   "nbconvert_exporter": "python",
   "pygments_lexer": "ipython2",
   "version": "2.7.6"
  }
 },
 "nbformat": 4,
 "nbformat_minor": 5
}
