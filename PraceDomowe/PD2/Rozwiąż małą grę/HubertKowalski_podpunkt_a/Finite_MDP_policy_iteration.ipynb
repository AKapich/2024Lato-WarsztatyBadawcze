{
 "cells": [
  {
   "cell_type": "code",
   "execution_count": 4,
   "id": "5f7a4900",
   "metadata": {},
   "outputs": [],
   "source": [
    "import numpy as np\n",
    "from matplotlib import pyplot as plt\n",
    "from enum import Enum\n",
    "import random"
   ]
  },
  {
   "cell_type": "markdown",
   "id": "724b18a5",
   "metadata": {},
   "source": [
    "- Mamy planszę 7x7, po której można się poruszać w 4 kierunkach, przy czym ruch w prawo jest o 2 jednostki, chyba że nie jest to możliwe, wtedy tylko o 1. </br></br>\n",
    "- Każda próba ruchu poza planszę powoduje pozostanie w dotychczasowym miejscu. </br></br>\n",
    "- Stany końcowe to lewy górny róg i prawy dolny </br></br>\n",
    "- Każdy ruch powoduje otrzymanie nagrody -1 </br></br>\n",
    "- Polityka pi jest zawsze deterministyczna, tzn. w ustalonym stanie s, wiemy dokładnie (z p-stwem 1) jaką chcemy wykonać akcję a </br></br>\n",
    "- Wiemy dokładnie, że wykonanie akcji a w stanie s skończy się nowym, konkrentym, deterministycznym stanem s' </br></br>\n",
    "- Wiemy też jaka będzie nagroda na każdym przejściu do nowego stanu (zawsze -1) </br></br>\n",
    "\n",
    "Rozwiązanie będzie metodą *policy iteration*, która jest gorsza niż *value iteration*, ale bardziej zrozumiała. Polega na tym, że do momentu uzyskania optymalnej polityki powtarzane są kroki: ewaluacja polityki pi -> wybranie nowej polityki pi', zachłannej -> ewaluacja..."
   ]
  },
  {
   "cell_type": "code",
   "execution_count": 5,
   "id": "4aa176ad",
   "metadata": {},
   "outputs": [],
   "source": [
    "class Action(Enum):\n",
    "    N = (-1, 0)\n",
    "    S = (1, 0)\n",
    "    E = (0, 2)\n",
    "    W = (0, -1)"
   ]
  },
  {
   "cell_type": "markdown",
   "id": "00e32417",
   "metadata": {},
   "source": [
    "bounds: 0<=i,j<=6, terminal: (0,0), (6,6)\n",
    "\n",
    "(2,3)-row 2, col 3"
   ]
  },
  {
   "cell_type": "code",
   "execution_count": 7,
   "id": "25616ff2",
   "metadata": {},
   "outputs": [],
   "source": [
    "def take_action(s, a): # s - state, ex. (3,6), a - action, ex. N\n",
    "    av = a.value\n",
    "    if a==Action.E:\n",
    "        if s[1]+av[1] <= 6:\n",
    "            return (s[0],s[1]+av[1]) # 2 steps right\n",
    "        elif s[1]+1 <= 6:\n",
    "            return (s[0],s[1]+1) # 1 step right\n",
    "        else: return s\n",
    "    new_s = (s[0] + av[0], s[1] + av[1])\n",
    "    if new_s[0] < 0 or new_s[0] > 6 or new_s[1] < 0 or new_s[1] > 6:\n",
    "        return s  # nothing changes if we're out of bounds\n",
    "    else: return new_s # new state"
   ]
  },
  {
   "cell_type": "code",
   "execution_count": 20,
   "id": "e9016453",
   "metadata": {},
   "outputs": [],
   "source": [
    "r = -1\n",
    "gamma = 0.9\n",
    "theta = 0.5 # accuracy of estimating state-value\n",
    "v = np.zeros([7,7])\n",
    "# Random starting policy instead of some strict one\n",
    "policy = [[random.choice(list(Action)) for i in range(7)] for j in range(7)]\n",
    "policy[0][0] = policy[6][6] = None\n",
    "stable = False"
   ]
  },
  {
   "cell_type": "code",
   "execution_count": 21,
   "id": "efaaeb1f",
   "metadata": {},
   "outputs": [],
   "source": [
    "while(stable == False):\n",
    "    # Evaluate\n",
    "    eval_error = float(\"+Inf\")\n",
    "    while(eval_error > theta):\n",
    "        eval_error = 0\n",
    "        for i in range(7):\n",
    "            for j in range(7):\n",
    "                if (i,j) == (0,0) or (i,j) == (6,6):\n",
    "                    continue\n",
    "                tmp = v[i][j]\n",
    "                # In state s we know what action to take - a (by policy), what state it will take \n",
    "                # us to - s' and what reward we are getting - (-1), so p(s',-1|s,a) = 1\n",
    "                new_state = take_action((i,j), policy[i][j])\n",
    "                v[i][j] = -1 + gamma*v[new_state[0], new_state[1]]\n",
    "                eval_error = max(eval_error, abs(tmp - v[i][j]))\n",
    "    # Improve policy\n",
    "    stable = True\n",
    "    for i in range(7):\n",
    "        for j in range(7):\n",
    "            if (i,j) == (0,0) or (i,j) == (6,6):\n",
    "                    continue\n",
    "            old_a = policy[i][j]\n",
    "            max_value = float(\"-Inf\")\n",
    "            best_action = None\n",
    "            for a in Action:\n",
    "                new_state = take_action((i,j), a)\n",
    "                value = -1 + gamma * v[new_state[0], new_state[1]] # value of the new state, taking action a   \n",
    "                if value > max_value:\n",
    "                    max_value = value\n",
    "                    best_action = a\n",
    "            policy[i][j] = best_action\n",
    "            if old_a != policy[i][j]:\n",
    "                stable = False\n",
    "      "
   ]
  },
  {
   "cell_type": "code",
   "execution_count": 22,
   "id": "a4942015",
   "metadata": {},
   "outputs": [
    {
     "name": "stdout",
     "output_type": "stream",
     "text": [
      "['None', 'W', 'W', 'W', 'W', 'W', 'S']\n",
      "['N', 'N', 'N', 'N', 'N', 'N', 'S']\n",
      "['N', 'N', 'N', 'N', 'S', 'S', 'S']\n",
      "['N', 'N', 'N', 'S', 'S', 'S', 'S']\n",
      "['N', 'N', 'S', 'S', 'S', 'S', 'S']\n",
      "['S', 'S', 'S', 'S', 'S', 'S', 'S']\n",
      "['E', 'E', 'E', 'E', 'E', 'E', 'None']\n"
     ]
    }
   ],
   "source": [
    "policy_directions = [[action.name if action else 'None' for action in row] for row in policy]\n",
    "for row in policy_directions:\n",
    "    print(row)"
   ]
  },
  {
   "cell_type": "code",
   "execution_count": 23,
   "id": "a60c220d",
   "metadata": {},
   "outputs": [
    {
     "data": {
      "image/png": "[encoded data removed]",
      "text/plain": [
       "<Figure size 432x432 with 1 Axes>"
      ]
     },
     "metadata": {
      "needs_background": "light"
     },
     "output_type": "display_data"
    }
   ],
   "source": [
    "arrows = {\"E\":(1,0), \"W\":(-1,0),\"N\":(0,1),\"S\":(0,-1)}\n",
    "scale = 0.25\n",
    "fig, ax = plt.subplots(figsize=(6, 6))\n",
    "for r, row in enumerate(policy):\n",
    "    for c, cell in enumerate(row):\n",
    "        if cell is None:\n",
    "            continue\n",
    "        plt.arrow(c, 5-r, scale*arrows[cell.name][0], scale*arrows[cell.name][1], head_width=0.1)"
   ]
  },
  {
   "cell_type": "code",
   "execution_count": 25,
   "id": "b58726ea",
   "metadata": {},
   "outputs": [],
   "source": [
    "def print_matrix(matrix):\n",
    "    for row in matrix:\n",
    "        print(\"|\", end=\" \") \n",
    "        for item in row:\n",
    "            print(\"{:8}\".format(item), end=\" \")  \n",
    "        print(\"|\") "
   ]
  },
  {
   "cell_type": "code",
   "execution_count": 26,
   "id": "2be8cc5a",
   "metadata": {},
   "outputs": [
    {
     "name": "stdout",
     "output_type": "stream",
     "text": [
      "|      0.0     -1.0     -1.9    -2.71   -3.439  -4.0951 -4.68559 |\n",
      "|     -1.0     -1.9    -2.71   -3.439  -4.0951 -4.68559  -4.0951 |\n",
      "|     -1.9    -2.71   -3.439  -4.0951  -4.0951  -4.0951   -3.439 |\n",
      "|    -2.71   -3.439  -4.0951  -4.0951   -3.439   -3.439    -2.71 |\n",
      "|   -3.439  -4.0951   -3.439   -3.439    -2.71    -2.71     -1.9 |\n",
      "|   -3.439   -3.439    -2.71    -2.71     -1.9     -1.9     -1.0 |\n",
      "|    -2.71    -2.71     -1.9     -1.9     -1.0     -1.0      0.0 |\n"
     ]
    }
   ],
   "source": [
    "print_matrix(v)"
   ]
  }
 ],
 "metadata": {
  "kernelspec": {
   "display_name": "Python 3 (ipykernel)",
   "language": "python",
   "name": "python3"
  },
  "language_info": {
   "codemirror_mode": {
    "name": "ipython",
    "version": 3
   },
   "file_extension": ".py",
   "mimetype": "text/x-python",
   "name": "python",
   "nbconvert_exporter": "python",
   "pygments_lexer": "ipython3",
   "version": "3.9.12"
  }
 },
 "nbformat": 4,
 "nbformat_minor": 5
}
