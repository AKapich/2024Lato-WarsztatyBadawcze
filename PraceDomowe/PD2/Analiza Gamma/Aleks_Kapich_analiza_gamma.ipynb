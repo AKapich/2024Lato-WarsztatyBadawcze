{
 "cells": [
  {
   "cell_type": "code",
   "execution_count": 65,
   "metadata": {},
   "outputs": [],
   "source": [
    "import numpy as np\n",
    "import matplotlib.pyplot as plt"
   ]
  },
  {
   "cell_type": "markdown",
   "metadata": {},
   "source": [
    "# **a)**\n",
    "\n",
    "Niech dana będzie gra na planszy 1D na liczbach 0,1,2,3,4.Gracz może grać w prawo, albo STOP. Jeśli gracz zagra w prawo, jego stan zwiększa się o 1 (poza stanem , gdy stan się nie zmienia) i nie dostaje żadnej nagrody.\n",
    "Jeśli gracz zagra STOP, gra się kończy, a on dostaje nagrodę: +1, jeśli był w stanie 0, +5 jeśli był w stanie 4, +0 jeśli był w pozostałych stanach."
   ]
  },
  {
   "cell_type": "markdown",
   "metadata": {},
   "source": [
    "W przypadku tej gry mamy wyłącznie dwie akcje (STOP oraz pójście w prawo), zatem <br>\n",
    "Równanie Bellmana wygląda następująco: **V(s) = max(R(s), $\\gamma$ * V(s+1))**"
   ]
  },
  {
   "cell_type": "code",
   "execution_count": 66,
   "metadata": {},
   "outputs": [],
   "source": [
    "states = list(range(5))\n",
    "rewards = [1, 0, 0, 0, 5]\n",
    "gammas = np.linspace(0.01, 1, 100)"
   ]
  },
  {
   "cell_type": "code",
   "execution_count": 67,
   "metadata": {},
   "outputs": [],
   "source": [
    "def get_optimal_policy(gamma, states, rewards, epsilon=1e-6):\n",
    "    V = np.zeros(len(states))\n",
    "    while True:\n",
    "        delta = 0\n",
    "        for s in range(len(states)):\n",
    "            if s == len(states) - 1:\n",
    "                v = rewards[s]\n",
    "            else:\n",
    "                # z równania Bellmana\n",
    "                v = max(rewards[s], gamma * V[s+1])\n",
    "            delta = max(delta, abs(v-V[s]))\n",
    "            V[s] = v\n",
    "        if delta < epsilon: # zbieżność\n",
    "            break\n",
    "    \n",
    "    policy = []\n",
    "    for s in range(len(states) - 1):\n",
    "        # chcemy poruszać się w prawo dopóki wartość zdyskontowana sąsiedniego stanu jest większa niż nagroda za zakończenie gry\n",
    "        if rewards[s] < gamma * V[s+1]:\n",
    "            policy.append('RIGHT')\n",
    "        else:\n",
    "            policy.append('STOP')\n",
    "    policy.append('STOP')\n",
    "    return policy"
   ]
  },
  {
   "cell_type": "code",
   "execution_count": 68,
   "metadata": {},
   "outputs": [],
   "source": [
    "# szukamy optymalnej polityki dla każdej gammy\n",
    "policies = []\n",
    "for gamma in gammas:\n",
    "    policies.append((\n",
    "        gamma,\n",
    "        get_optimal_policy(gamma, states, rewards)\n",
    "    ))"
   ]
  },
  {
   "cell_type": "code",
   "execution_count": 77,
   "metadata": {},
   "outputs": [
    {
     "name": "stdout",
     "output_type": "stream",
     "text": [
      "0.67\n"
     ]
    }
   ],
   "source": [
    "for i in range(1, len(policies)):\n",
    "    if policies[i][1] != policies[i-1][1]:\n",
    "        print(policies[i][0])\n",
    "        break"
   ]
  },
  {
   "cell_type": "markdown",
   "metadata": {},
   "source": [
    "Zmiana optymalnej polityki przy $\\gamma$ = **0.67**"
   ]
  },
  {
   "cell_type": "markdown",
   "metadata": {},
   "source": [
    "# **b)**\n",
    "\n",
    "Gra jest na planszy 1D na liczbach 0,...99. Gracz może grać w prawo, albo STOP. Jeśli gracz zagra w prawo, jego stan zwiększa się o 1 (poza stanem \n",
    ", gdy stan się nie zmienia) i nie dostaje żadnej nagrody. Jeśli gracz zagra STOP, gra się kończy, a on dostaje nagrodę RÓWNĄ WARTOŚCI STANU W KTÓRYM SIĘ ZNAJDUJE"
   ]
  },
  {
   "cell_type": "markdown",
   "metadata": {},
   "source": [
    "Podobnie jak w poprzedniej grze, równanie Bellmana ma postać  **V(s) = max(R(s), $\\gamma$ * V(s+1))**"
   ]
  },
  {
   "cell_type": "code",
   "execution_count": 70,
   "metadata": {},
   "outputs": [],
   "source": [
    "states2 = list(range(101))\n",
    "rewards2 = list(range(101))"
   ]
  },
  {
   "cell_type": "code",
   "execution_count": 71,
   "metadata": {},
   "outputs": [],
   "source": [
    "policies2 = []\n",
    "for gamma in gammas:\n",
    "    policies2.append((\n",
    "        gamma,\n",
    "        get_optimal_policy(gamma, states2, rewards2)\n",
    "    ))"
   ]
  },
  {
   "cell_type": "code",
   "execution_count": 72,
   "metadata": {},
   "outputs": [],
   "source": [
    "points_obtained = []\n",
    "for policy in policies2:\n",
    "    points_obtained.append((\n",
    "        policy[0],\n",
    "        policy[1].index('STOP')\n",
    "    ))"
   ]
  },
  {
   "cell_type": "code",
   "execution_count": 79,
   "metadata": {},
   "outputs": [
    {
     "data": {
      "text/plain": [
       "[(0.01, 1),\n",
       " (0.02, 1),\n",
       " (0.03, 1),\n",
       " (0.04, 1),\n",
       " (0.05, 1),\n",
       " (0.060000000000000005, 1),\n",
       " (0.06999999999999999, 1),\n",
       " (0.08, 1),\n",
       " (0.09, 1),\n",
       " (0.09999999999999999, 1),\n",
       " (0.11, 1),\n",
       " (0.12, 1),\n",
       " (0.13, 1),\n",
       " (0.14, 1),\n",
       " (0.15000000000000002, 1),\n",
       " (0.16, 1),\n",
       " (0.17, 1),\n",
       " (0.18000000000000002, 1),\n",
       " (0.19, 1),\n",
       " (0.2, 1),\n",
       " (0.21000000000000002, 1),\n",
       " (0.22, 1),\n",
       " (0.23, 1),\n",
       " (0.24000000000000002, 1),\n",
       " (0.25, 1),\n",
       " (0.26, 1),\n",
       " (0.27, 1),\n",
       " (0.28, 1),\n",
       " (0.29000000000000004, 1),\n",
       " (0.3, 1),\n",
       " (0.31, 1),\n",
       " (0.32, 1),\n",
       " (0.33, 1),\n",
       " (0.34, 1),\n",
       " (0.35000000000000003, 1),\n",
       " (0.36000000000000004, 1),\n",
       " (0.37, 1),\n",
       " (0.38, 1),\n",
       " (0.39, 1),\n",
       " (0.4, 1),\n",
       " (0.41000000000000003, 1),\n",
       " (0.42000000000000004, 1),\n",
       " (0.43, 1),\n",
       " (0.44, 1),\n",
       " (0.45, 1),\n",
       " (0.46, 1),\n",
       " (0.47000000000000003, 1),\n",
       " (0.48000000000000004, 1),\n",
       " (0.49, 1),\n",
       " (0.5, 1),\n",
       " (0.51, 2),\n",
       " (0.52, 2),\n",
       " (0.53, 2),\n",
       " (0.54, 2),\n",
       " (0.55, 2),\n",
       " (0.56, 2),\n",
       " (0.5700000000000001, 2),\n",
       " (0.5800000000000001, 2),\n",
       " (0.59, 2),\n",
       " (0.6, 2),\n",
       " (0.61, 2),\n",
       " (0.62, 2),\n",
       " (0.63, 2),\n",
       " (0.64, 2),\n",
       " (0.65, 2),\n",
       " (0.66, 2),\n",
       " (0.67, 3),\n",
       " (0.68, 3),\n",
       " (0.6900000000000001, 3),\n",
       " (0.7000000000000001, 3),\n",
       " (0.7100000000000001, 3),\n",
       " (0.72, 3),\n",
       " (0.73, 3),\n",
       " (0.74, 3),\n",
       " (0.75, 3),\n",
       " (0.76, 4),\n",
       " (0.77, 4),\n",
       " (0.78, 4),\n",
       " (0.79, 4),\n",
       " (0.8, 4),\n",
       " (0.81, 5),\n",
       " (0.8200000000000001, 5),\n",
       " (0.8300000000000001, 5),\n",
       " (0.8400000000000001, 6),\n",
       " (0.85, 6),\n",
       " (0.86, 7),\n",
       " (0.87, 7),\n",
       " (0.88, 8),\n",
       " (0.89, 9),\n",
       " (0.9, 9),\n",
       " (0.91, 11),\n",
       " (0.92, 12),\n",
       " (0.93, 14),\n",
       " (0.9400000000000001, 16),\n",
       " (0.9500000000000001, 19),\n",
       " (0.9600000000000001, 25),\n",
       " (0.97, 33),\n",
       " (0.98, 49),\n",
       " (0.99, 99),\n",
       " (1.0, 100)]"
      ]
     },
     "execution_count": 79,
     "metadata": {},
     "output_type": "execute_result"
    }
   ],
   "source": [
    "points_obtained"
   ]
  },
  {
   "cell_type": "code",
   "execution_count": 73,
   "metadata": {},
   "outputs": [
    {
     "data": {
      "image/png": "[encoded data removed]",
      "text/plain": [
       "<Figure size 1000x600 with 1 Axes>"
      ]
     },
     "metadata": {},
     "output_type": "display_data"
    }
   ],
   "source": [
    "plt.figure(figsize=(10, 6))\n",
    "plt.plot(\n",
    "    [g[0] for g in points_obtained],\n",
    "    [p[1] for p in points_obtained],\n",
    "    marker='h',\n",
    "    c='#fc69f8'\n",
    ")\n",
    "plt.xlabel('Wartość parametru gamma')\n",
    "plt.ylabel('Liczba punktów')\n",
    "plt.title('Liczba punktów zdobytych przez gracza działającego zgodnie z polityką optymalną vs. gamma')\n",
    "plt.grid(True)\n",
    "plt.show()"
   ]
  },
  {
   "cell_type": "markdown",
   "metadata": {},
   "source": [
    "Dopiero dla $\\gamma$ bardzo bliskich 1 optymalna polityka zmienia się na tyle, by agent 'rozumiał' potrzebę kierowania się jak najbardziej w prawo. <br> Dla $\\gamma$ = 0.98 agent zdobyłby 49 punktów, dla $\\gamma$ = 0.99 zdobyłby już 99 punktów."
   ]
  }
 ],
 "metadata": {
  "kernelspec": {
   "display_name": "Python 3",
   "language": "python",
   "name": "python3"
  },
  "language_info": {
   "codemirror_mode": {
    "name": "ipython",
    "version": 3
   },
   "file_extension": ".py",
   "mimetype": "text/x-python",
   "name": "python",
   "nbconvert_exporter": "python",
   "pygments_lexer": "ipython3",
   "version": "3.10.7"
  }
 },
 "nbformat": 4,
 "nbformat_minor": 2
}
