{
 "cells": [
  {
   "cell_type": "markdown",
   "id": "145ef80b67265730",
   "metadata": {},
   "source": [
    "# WB PD3 - analiza epsilon w algorytmie On-policy first-visit MC control\n",
    "## Zadanie\n",
    "Dla wybranej przez siebie gry na siatce (np. jednej z możliwych do wyboru z PD2) zanalizuj wpływ parametru epsilon na prędkość zbieżności algorytmu On-policy first-visit MC control.\n",
    "\n",
    "Narysuj wykres, gdzie na osi OX jest wartość parametru epsilon, a na osi OY liczba epizodów, która była potrzebna do zbieżności algorytmu.\n",
    "\n",
    "Jako kryterium zbieżności wybierz, że polityka nie zmieniła się od 100 epizodów.\n",
    "## Wybrana gra\n",
    "Modyfikacja przykładu 4.1 z książki ze strony 76. Plansza jest 7x7. Gracz może się po niej poruszać w 4 kierunkach. Gdy będzie próbował wejść w ścianę, to jego pozycja się nie zmienia. Za każdym ruchem dostaje \"nagrodę\" -1. Koniec gry następuje, gdy wejdzie do prawego dolnego albo lewego górnego rogu. Idąc w prawo, gracz przechodzi dwa pola zamiast jednego (jeżeli jest o jedno pole od ściany, to jedynie idzie o jedno pole)."
   ]
  },
  {
   "cell_type": "code",
   "execution_count": 1,
   "id": "81842c1d5b087389",
   "metadata": {
    "tags": [],
    "ExecuteTime": {
     "end_time": "2024-04-17T14:24:20.402532Z",
     "start_time": "2024-04-17T14:24:20.397645Z"
    }
   },
   "outputs": [],
   "source": [
    "import numpy as np\n",
    "import pandas as pd"
   ]
  },
  {
   "cell_type": "code",
   "execution_count": 2,
   "id": "17f07c212461b85c",
   "metadata": {
    "tags": [],
    "ExecuteTime": {
     "end_time": "2024-04-17T14:24:52.823386Z",
     "start_time": "2024-04-17T14:24:52.795422Z"
    }
   },
   "outputs": [],
   "source": [
    "#gra\n",
    "#niech zaczyna w dolnym lewnym rogu\n",
    "start = (6,0)\n",
    "end = [(6, 6), (0, 0)]\n",
    "acts = ['UP', 'DOWN', 'LEFT', 'RIGHT']\n",
    "\n",
    "#ruchy\n",
    "def take_action(state, action):\n",
    "    r,c = state\n",
    "\n",
    "    if action == 'UP':\n",
    "        next_state = (max(r - 1, 0), c)\n",
    "    elif action == 'DOWN':\n",
    "        next_state = (min(r + 1, 6), c)\n",
    "    elif action == 'LEFT':\n",
    "        next_state = (r, max(c - 1, 0))\n",
    "    elif action == 'RIGHT':\n",
    "        if c == 5:\n",
    "            next_state = (r, 6)\n",
    "        else:\n",
    "            next_state = (r, min(c + 2, 6))\n",
    "    reward = -1\n",
    "\n",
    "    return next_state, reward\n",
    "\n",
    "# update polityki\n",
    "def update_policy(state, policy, epsilon, Q, A=acts):\n",
    "    best_actions = [a for a in A if Q[state][a] == max(Q[state].values())]\n",
    "    policy[state] = {a: 0 for a in A}\n",
    "    for a in A:\n",
    "        if (len(A)-len(best_actions))==0:\n",
    "            policy[state][a]=1/len(A)\n",
    "        elif a in best_actions:\n",
    "            policy[state][a] = (1 - epsilon)/len(best_actions)\n",
    "        else:\n",
    "            policy[state][a] = epsilon/(len(A)-len(best_actions))\n",
    "    return policy\n",
    "        \n",
    "            \n",
    "#stosowanie polityki\n",
    "def choose_action(state, policy):\n",
    "    acts = list(policy[state].keys())\n",
    "    probabilities = list(policy[state].values())\n",
    "    return np.random.choice(acts, p=probabilities)\n",
    "\n",
    "# Algorytm \n",
    "def first_visit_mc_control(epsilon, episodes=5000, A=acts):\n",
    "    policy = {}\n",
    "    Q = {}\n",
    "    returns = {}\n",
    "    count= 0 #do zliczania epizodów bez zmiany polityki\n",
    "\n",
    "    #nie mamy informacji zadnych jeszcze, wiec random\n",
    "    for i in range(7):\n",
    "        for j in range(7):\n",
    "            state = (i, j)\n",
    "            policy[state] = {a: 0.25 for a in A}\n",
    "            Q[state] = {a: 0 for a in A}\n",
    "            returns[state] = {a: [] for a in A}\n",
    "\n",
    "    for ep in range(episodes):\n",
    "        state = start\n",
    "        states = [state]\n",
    "        rewards = [0]\n",
    "        G=0\n",
    "        actions=[]\n",
    "\n",
    "        while state not in end:\n",
    "            action = choose_action(state,policy)\n",
    "            next_state, reward = take_action(state, action)\n",
    "            states.append(next_state)\n",
    "            actions.append(action)\n",
    "            rewards.append(reward)\n",
    "            state = next_state\n",
    "\n",
    "        for t in reversed(range(len(states) - 1)):\n",
    "            state = states[t]\n",
    "            action = actions[t]\n",
    "            reward = rewards[t + 1]\n",
    "            G = reward + G\n",
    "            if (state, action) not in zip(states[:t], actions[:t]):\n",
    "                old_policy=policy.copy()\n",
    "                returns[state][action].append(G)\n",
    "                Q[state][action] = np.mean(returns[state][action])\n",
    "                new_policy=update_policy(state, policy, epsilon, Q)\n",
    "                if new_policy!=old_policy:\n",
    "                    count=0\n",
    "                policy=new_policy\n",
    "        count+=1\n",
    "        if count==100:\n",
    "            break\n",
    "    return ep"
   ]
  },
  {
   "cell_type": "code",
   "execution_count": 7,
   "id": "bf261d6c",
   "metadata": {
    "ExecuteTime": {
     "end_time": "2024-04-17T15:04:00.319311Z",
     "start_time": "2024-04-17T14:32:18.499905Z"
    }
   },
   "outputs": [],
   "source": [
    "# badanie zbieznosci \n",
    "epsilons = np.linspace(0.005, 0.4, 12)\n",
    "nr_of_episodes = {eps: 0 for eps in epsilons}\n",
    "\n",
    "for epsilon in epsilons:\n",
    "    avg_nr=0\n",
    "    for i in range(10):\n",
    "        avg_nr+=first_visit_mc_control(epsilon)\n",
    "    nr_of_episodes[epsilon] = avg_nr/10\n"
   ]
  },
  {
   "cell_type": "code",
   "execution_count": 11,
   "id": "c32e38e05f420e4b",
   "metadata": {
    "ExecuteTime": {
     "end_time": "2024-04-17T15:07:44.089919Z",
     "start_time": "2024-04-17T15:07:44.082010Z"
    }
   },
   "outputs": [
    {
     "data": {
      "text/plain": "{0.005: 129.4,\n 0.04090909090909091: 225.8,\n 0.07681818181818183: 182.3,\n 0.11272727272727273: 181.6,\n 0.14863636363636365: 237.1,\n 0.18454545454545457: 251.0,\n 0.22045454545454546: 314.2,\n 0.2563636363636364: 295.7,\n 0.2922727272727273: 307.6,\n 0.3281818181818182: 456.1,\n 0.36409090909090913: 401.7,\n 0.4: 429.0}"
     },
     "execution_count": 11,
     "metadata": {},
     "output_type": "execute_result"
    }
   ],
   "source": [
    "df = pd.DataFrame(list(nr_of_episodes.items()), columns=['epsilon', 'nr_of_episodes'])\n",
    "nr_of_episodes"
   ]
  },
  {
   "cell_type": "code",
   "execution_count": 9,
   "id": "66e3b79d",
   "metadata": {
    "ExecuteTime": {
     "end_time": "2024-04-17T15:07:19.092066Z",
     "start_time": "2024-04-17T15:07:18.743177Z"
    }
   },
   "outputs": [
    {
     "data": {
      "text/plain": "<Figure size 640x480 with 1 Axes>",
      "image/png": "[encoded data removed]"
     },
     "metadata": {},
     "output_type": "display_data"
    }
   ],
   "source": [
    "# Wykres\n",
    "import seaborn as sns\n",
    "import matplotlib.pyplot as plt\n",
    "\n",
    "sns.scatterplot(data=df, x=\"epsilon\", y=\"nr_of_episodes\")\n",
    "plt.title('Wpływ wartości epsilona na szybkość zbieżności algorytmu first-visit MC control')\n",
    "plt.show()"
   ]
  },
  {
   "cell_type": "markdown",
   "id": "4dfaf910",
   "metadata": {},
   "source": []
  },
  {
   "cell_type": "code",
   "execution_count": null,
   "id": "44702ed7",
   "metadata": {},
   "outputs": [],
   "source": []
  }
 ],
 "metadata": {
  "kernelspec": {
   "display_name": "Python 3 (ipykernel)",
   "language": "python",
   "name": "python3"
  },
  "language_info": {
   "codemirror_mode": {
    "name": "ipython",
    "version": 3
   },
   "file_extension": ".py",
   "mimetype": "text/x-python",
   "name": "python",
   "nbconvert_exporter": "python",
   "pygments_lexer": "ipython3",
   "version": "3.11.5"
  }
 },
 "nbformat": 4,
 "nbformat_minor": 5
}
